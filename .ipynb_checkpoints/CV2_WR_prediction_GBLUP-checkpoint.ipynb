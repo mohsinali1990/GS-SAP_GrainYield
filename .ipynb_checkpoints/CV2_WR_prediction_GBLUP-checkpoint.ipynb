{
 "cells": [
  {
   "cell_type": "markdown",
   "metadata": {},
   "source": [
    "## Across race prediction - CV2"
   ]
  },
  {
   "cell_type": "code",
   "execution_count": 44,
   "metadata": {},
   "outputs": [],
   "source": [
    ".libPaths(c('/anaconda2/lib/R/library',.libPaths()))\n",
    "\n",
    "library(rrBLUP)\n",
    "library(ggplot2)\n",
    "library(BGLR)\n",
    "\n",
    "my.read.vcf <- function(file, special.char=\"##\", ...) {\n",
    "  my.search.term <- paste0(special.char, \".*\")  # Making a search term that looks like: \"##.*\", tells R to find anything containing the pattern \"##\" followed by anything (* is wildcard)\n",
    "  clean.lines <- sub(my.search.term, \"\", readLines(file)) # Replace any line containing the search term with nothing (in other words remove it)\n",
    "  clean.lines2 <- sub(\"#CHROM\", \"CHROM\", clean.lines) # Replace the #CHROM term in the header with CHROM, so R doesn't treat it as a special character\n",
    "  read.table(..., text=paste(clean.lines2, collapse=\"\\n\")) # Pass the cleaned up lines to read.table\n",
    "}"
   ]
  },
  {
   "cell_type": "markdown",
   "metadata": {},
   "source": [
    "### make CV fold dataframe for each race five equal folds with sum total to ~ number of individuals in that race"
   ]
  },
  {
   "cell_type": "code",
   "execution_count": 49,
   "metadata": {},
   "outputs": [
    {
     "data": {
      "text/html": [
       "65"
      ],
      "text/latex": [
       "65"
      ],
      "text/markdown": [
       "65"
      ],
      "text/plain": [
       "[1] 65"
      ]
     },
     "metadata": {},
     "output_type": "display_data"
    }
   ],
   "source": [
    "setwd(\"/Users/ssapkot/Documents/Experiments/SAP_GS_PopStr\")\n",
    "Y <- read.csv('data/BLUEs_pheno_all.csv', header=T, row.names = 1)\n",
    "\n",
    "cvf <- data.frame(matrix(\"\",nrow=65, ncol=0))\n",
    "\n",
    "Y$SN = 1:nrow(Y)\n",
    "    \n",
    "    for (j in 1:100){\n",
    "    \n",
    "    c.list = vector(\"list\", 5)\n",
    "    \n",
    "    for (i in 1:5) {\n",
    "      ctemp = Y[Y$Cluster==i,] #subset individuals from a cluster\n",
    "      x2 = sample(ctemp$SN,13) # sample individuals randomly from a cluster and store their rowID\n",
    "      c.list[[i]] = x2\n",
    "    }\n",
    "      cvf[j] <- c(c.list[[1]],c.list[[2]],c.list[[3]],c.list[[4]],c.list[[5]]) # Make dataframe for each cluster to a total of 100 reps\n",
    "    }\n",
    "nrow(cvf)"
   ]
  },
  {
   "cell_type": "code",
   "execution_count": 5,
   "metadata": {},
   "outputs": [
    {
     "data": {
      "text/html": [
       "<table>\n",
       "<tbody>\n",
       "\t<tr><td>-1</td><td>-1</td><td>-1</td><td>-1</td><td>-1</td></tr>\n",
       "\t<tr><td>-1</td><td>-1</td><td>-1</td><td>-1</td><td>-1</td></tr>\n",
       "\t<tr><td>-1</td><td>-1</td><td>-1</td><td>-1</td><td> 1</td></tr>\n",
       "\t<tr><td>-1</td><td>-1</td><td>-1</td><td>-1</td><td>-1</td></tr>\n",
       "\t<tr><td>-1</td><td>-1</td><td>-1</td><td>-1</td><td>-1</td></tr>\n",
       "</tbody>\n",
       "</table>\n"
      ],
      "text/latex": [
       "\\begin{tabular}{lllll}\n",
       "\t -1 & -1 & -1 & -1 & -1\\\\\n",
       "\t -1 & -1 & -1 & -1 & -1\\\\\n",
       "\t -1 & -1 & -1 & -1 &  1\\\\\n",
       "\t -1 & -1 & -1 & -1 & -1\\\\\n",
       "\t -1 & -1 & -1 & -1 & -1\\\\\n",
       "\\end{tabular}\n"
      ],
      "text/markdown": [
       "\n",
       "| -1 | -1 | -1 | -1 | -1 | \n",
       "| -1 | -1 | -1 | -1 | -1 | \n",
       "| -1 | -1 | -1 | -1 |  1 | \n",
       "| -1 | -1 | -1 | -1 | -1 | \n",
       "| -1 | -1 | -1 | -1 | -1 | \n",
       "\n",
       "\n"
      ],
      "text/plain": [
       "     [,1] [,2] [,3] [,4] [,5]\n",
       "[1,] -1   -1   -1   -1   -1  \n",
       "[2,] -1   -1   -1   -1   -1  \n",
       "[3,] -1   -1   -1   -1    1  \n",
       "[4,] -1   -1   -1   -1   -1  \n",
       "[5,] -1   -1   -1   -1   -1  "
      ]
     },
     "metadata": {},
     "output_type": "display_data"
    }
   ],
   "source": [
    "GBS=my.read.vcf(file= \"data/SAP_all_taxa.vcf\", header=TRUE, stringsAsFactors = TRUE, as.is=TRUE)\n",
    "\n",
    "\n",
    "f.column <- grep(\"FORMAT\", colnames(GBS))\n",
    "\n",
    "##Function Parse vcf file to convert to -1,0,1 format\n",
    "parse.GBS <- function(x) {\n",
    "  unique.x <- unique(x)\n",
    "  alleles <- setdiff(unique.x,union(\"H\",\"N\"))\n",
    "  y <- rep(0,length(x))\n",
    "  y[which(x==alleles[1])] <- -1\n",
    "  y[which(x==alleles[2])] <- 1\n",
    "  y[which(x==\"N\")] <- NA\n",
    "  return(y)\n",
    "}\n",
    "\n",
    "X <- apply(GBS[, -c(1:f.column)],1,parse.GBS)\n",
    "\n",
    "X[1:5,1:5]"
   ]
  },
  {
   "cell_type": "code",
   "execution_count": 6,
   "metadata": {},
   "outputs": [
    {
     "data": {
      "text/html": [
       "<table>\n",
       "<thead><tr><th></th><th scope=col>Subpopulation</th><th scope=col>Cluster</th><th scope=col>Race</th><th scope=col>Origin</th><th scope=col>DTA</th><th scope=col>PH</th><th scope=col>GN</th><th scope=col>GW</th><th scope=col>GY</th><th scope=col>FLH</th><th scope=col>PL</th><th scope=col>BL</th><th scope=col>SN</th></tr></thead>\n",
       "<tbody>\n",
       "\t<tr><th scope=row>PI152651</th><td>Caudatum </td><td>4        </td><td>0        </td><td>NA       </td><td>66       </td><td>146.61   </td><td>1286     </td><td>27.32    </td><td>43.95    </td><td> 97.00000</td><td>14.33333 </td><td>57.95000 </td><td>1        </td></tr>\n",
       "\t<tr><th scope=row>PI17548</th><td>Kafir    </td><td>2        </td><td>0        </td><td>NA       </td><td>66       </td><td>214.06   </td><td>1167     </td><td>15.62    </td><td>26.66    </td><td>156.83333</td><td>22.83333 </td><td>83.41667 </td><td>2        </td></tr>\n",
       "\t<tr><th scope=row>PI24969</th><td>Durra    </td><td>3        </td><td>0        </td><td>NA       </td><td>80       </td><td>182.06   </td><td>1319     </td><td>29.92    </td><td>50.86    </td><td>162.00000</td><td>13.33333 </td><td>41.83333 </td><td>3        </td></tr>\n",
       "\t<tr><th scope=row>PI329435</th><td>Mixed    </td><td>1        </td><td>0        </td><td>NA       </td><td>80       </td><td> 95.50   </td><td>1388     </td><td>15.68    </td><td>30.47    </td><td> 65.83333</td><td>26.00000 </td><td>72.58333 </td><td>4        </td></tr>\n",
       "\t<tr><th scope=row>PI329440</th><td>Kafir    </td><td>2        </td><td>0        </td><td>NA       </td><td>69       </td><td> 93.61   </td><td>2141     </td><td>17.61    </td><td>48.35    </td><td> 58.00000</td><td>23.83333 </td><td>67.16667 </td><td>5        </td></tr>\n",
       "\t<tr><th scope=row>PI34911</th><td>Caudatum </td><td>4        </td><td>0        </td><td>NA       </td><td>87       </td><td>179.67   </td><td>1587     </td><td>25.50    </td><td>52.56    </td><td>150.00000</td><td>14.33333 </td><td>39.75000 </td><td>6        </td></tr>\n",
       "</tbody>\n",
       "</table>\n"
      ],
      "text/latex": [
       "\\begin{tabular}{r|lllllllllllll}\n",
       "  & Subpopulation & Cluster & Race & Origin & DTA & PH & GN & GW & GY & FLH & PL & BL & SN\\\\\n",
       "\\hline\n",
       "\tPI152651 & Caudatum  & 4         & 0         & NA        & 66        & 146.61    & 1286      & 27.32     & 43.95     &  97.00000 & 14.33333  & 57.95000  & 1        \\\\\n",
       "\tPI17548 & Kafir     & 2         & 0         & NA        & 66        & 214.06    & 1167      & 15.62     & 26.66     & 156.83333 & 22.83333  & 83.41667  & 2        \\\\\n",
       "\tPI24969 & Durra     & 3         & 0         & NA        & 80        & 182.06    & 1319      & 29.92     & 50.86     & 162.00000 & 13.33333  & 41.83333  & 3        \\\\\n",
       "\tPI329435 & Mixed     & 1         & 0         & NA        & 80        &  95.50    & 1388      & 15.68     & 30.47     &  65.83333 & 26.00000  & 72.58333  & 4        \\\\\n",
       "\tPI329440 & Kafir     & 2         & 0         & NA        & 69        &  93.61    & 2141      & 17.61     & 48.35     &  58.00000 & 23.83333  & 67.16667  & 5        \\\\\n",
       "\tPI34911 & Caudatum  & 4         & 0         & NA        & 87        & 179.67    & 1587      & 25.50     & 52.56     & 150.00000 & 14.33333  & 39.75000  & 6        \\\\\n",
       "\\end{tabular}\n"
      ],
      "text/markdown": [
       "\n",
       "| <!--/--> | Subpopulation | Cluster | Race | Origin | DTA | PH | GN | GW | GY | FLH | PL | BL | SN | \n",
       "|---|---|---|---|---|---|\n",
       "| PI152651 | Caudatum  | 4         | 0         | NA        | 66        | 146.61    | 1286      | 27.32     | 43.95     |  97.00000 | 14.33333  | 57.95000  | 1         | \n",
       "| PI17548 | Kafir     | 2         | 0         | NA        | 66        | 214.06    | 1167      | 15.62     | 26.66     | 156.83333 | 22.83333  | 83.41667  | 2         | \n",
       "| PI24969 | Durra     | 3         | 0         | NA        | 80        | 182.06    | 1319      | 29.92     | 50.86     | 162.00000 | 13.33333  | 41.83333  | 3         | \n",
       "| PI329435 | Mixed     | 1         | 0         | NA        | 80        |  95.50    | 1388      | 15.68     | 30.47     |  65.83333 | 26.00000  | 72.58333  | 4         | \n",
       "| PI329440 | Kafir     | 2         | 0         | NA        | 69        |  93.61    | 2141      | 17.61     | 48.35     |  58.00000 | 23.83333  | 67.16667  | 5         | \n",
       "| PI34911 | Caudatum  | 4         | 0         | NA        | 87        | 179.67    | 1587      | 25.50     | 52.56     | 150.00000 | 14.33333  | 39.75000  | 6         | \n",
       "\n",
       "\n"
      ],
      "text/plain": [
       "         Subpopulation Cluster Race Origin DTA PH     GN   GW    GY   \n",
       "PI152651 Caudatum      4       0    NA     66  146.61 1286 27.32 43.95\n",
       "PI17548  Kafir         2       0    NA     66  214.06 1167 15.62 26.66\n",
       "PI24969  Durra         3       0    NA     80  182.06 1319 29.92 50.86\n",
       "PI329435 Mixed         1       0    NA     80   95.50 1388 15.68 30.47\n",
       "PI329440 Kafir         2       0    NA     69   93.61 2141 17.61 48.35\n",
       "PI34911  Caudatum      4       0    NA     87  179.67 1587 25.50 52.56\n",
       "         FLH       PL       BL       SN\n",
       "PI152651  97.00000 14.33333 57.95000 1 \n",
       "PI17548  156.83333 22.83333 83.41667 2 \n",
       "PI24969  162.00000 13.33333 41.83333 3 \n",
       "PI329435  65.83333 26.00000 72.58333 4 \n",
       "PI329440  58.00000 23.83333 67.16667 5 \n",
       "PI34911  150.00000 14.33333 39.75000 6 "
      ]
     },
     "metadata": {},
     "output_type": "display_data"
    }
   ],
   "source": [
    "head(Y)"
   ]
  },
  {
   "cell_type": "code",
   "execution_count": 51,
   "metadata": {},
   "outputs": [],
   "source": [
    "setwd(\"/Users/ssapkot/Documents/Experiments/SAP_GS_PopStr/Results/Prediction_Results/WR_AR_SameTPsize/AR_Pred_Accu/\")\n",
    "Total_accuracy <- vector(\"list\",5)\n",
    "for (j in 5:12) {\n",
    "\n",
    "  for (i in 1:101) {\n",
    "  CV.fold <- paste(\"V\",toString(i-1),sep='')\n",
    " \n",
    "  if (CV.fold == \"V0\") {\n",
    "    Total_Result <- c()\n",
    "      result<- c()\n",
    "  }\n",
    "  else {  \n",
    "    \n",
    "  Z <- cvf[,CV.fold]\n",
    "  Z <- sort(Z) ##sort randomly selected individuals by taxa order, and so the pheno and geno will be in the same order when subsetted\n",
    "  \n",
    "  X1 <- X[Z,]\n",
    "  \n",
    "  A <- A.mat(X1)\n",
    "  \n",
    "  rownames(A) <- 1:nrow(X1)\n",
    "  P <- Y[Z,]\n",
    "  cvs <- P$Cluster#fold is determined by cluster each individual belongs to\n",
    "  \n",
    "  y = P[,j]\n",
    "  col = names(P[j])\n",
    "  \n",
    "  yhat <- data.frame(cbind( y, yhat = 0))\n",
    "  yhat$yhat <- as.numeric(yhat$yhat)\n",
    "  row.names(yhat) <- row.names(y)\n",
    "  \n",
    "      result <- c()\n",
    "      corr <- c()\n",
    "      var_x <- c()\n",
    "      var_y <- c()\n",
    "      cov_xy <- c()\n",
    "  \n",
    "    # Make training (TRN) and testing (TST) dfs\n",
    "    tst <- which(cvs == 1) ##cvs == whichever cluster/race is to be predicted\n",
    "    yNA <- y\n",
    "    yNA[tst] <- NA # Mask yields for validation set\n",
    "    df <- data.frame(y=yNA,gid=1:nrow(A)) # Set up dataframe with traits and genotype labels (same order as in A1) \n",
    "    \n",
    "    # Build rrBLUP model and save yhat for the masked values\n",
    "    rrblup <- kin.blup(df,K=A,geno=\"gid\",pheno=\"y\") #optional parameters: fixed effects, gaussian kernel, covariates\n",
    "    yhat$yhat[tst] = rrblup$pred[tst]\n",
    "    \n",
    "    corr <- cor(yhat$y[tst],yhat$yhat[tst],use=\"complete\")\n",
    "    var_x <- var(yhat$yhat[tst], use=\"complete\")\n",
    "    var_y <- var(yhat$y[tst], use=\"complete\")\n",
    "    cov_xy <- cov(yhat$y[tst],yhat$yhat[tst], use=\"complete\")\n",
    "  \n",
    "      result <- c(corr,var_x,var_y,cov_xy)\n",
    "      }\n",
    "      Total_Result <- cbind(Total_Result,result)\n",
    "  \n",
    "  }\n",
    "    rownames(Total_Result) <- c(\"corr\",\"var_x\",\"var_y\",\"cov_xy\")\n",
    "    \n",
    "  write.csv(Total_Result, file = paste(\"AR_Corr-Cov_Mixed_\",col,\".csv\", sep=\"\"))\n",
    "    }"
   ]
  },
  {
   "cell_type": "code",
   "execution_count": null,
   "metadata": {},
   "outputs": [],
   "source": [
    "###When  writing the  file it would be useful to put in race and trait information,\n",
    "###and also make a separate file/dataframe for mean and standard deviations\n"
   ]
  },
  {
   "cell_type": "code",
   "execution_count": null,
   "metadata": {},
   "outputs": [],
   "source": []
  },
  {
   "cell_type": "code",
   "execution_count": null,
   "metadata": {},
   "outputs": [],
   "source": []
  }
 ],
 "metadata": {
  "kernelspec": {
   "display_name": "R",
   "language": "R",
   "name": "ir"
  },
  "language_info": {
   "codemirror_mode": "r",
   "file_extension": ".r",
   "mimetype": "text/x-r-source",
   "name": "R",
   "pygments_lexer": "r",
   "version": "3.5.1"
  }
 },
 "nbformat": 4,
 "nbformat_minor": 2
}
