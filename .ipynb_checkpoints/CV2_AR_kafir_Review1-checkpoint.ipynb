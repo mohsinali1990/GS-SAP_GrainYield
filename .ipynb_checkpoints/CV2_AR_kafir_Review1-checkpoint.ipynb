{
 "cells": [
  {
   "cell_type": "code",
   "execution_count": 25,
   "metadata": {},
   "outputs": [
    {
     "name": "stderr",
     "output_type": "stream",
     "text": [
      "Loading required package: iterators\n",
      "Loading required package: parallel\n"
     ]
    },
    {
     "data": {
      "text/html": [
       "<table>\n",
       "<thead><tr><th scope=col>PI</th><th scope=col>Subpopulation</th><th scope=col>Cluster</th><th scope=col>Race</th><th scope=col>Origin</th><th scope=col>DTA</th><th scope=col>PH</th><th scope=col>GN</th><th scope=col>GW</th><th scope=col>GY</th><th scope=col>FLH</th><th scope=col>PL</th><th scope=col>BL</th></tr></thead>\n",
       "<tbody>\n",
       "\t<tr><td>PI152651 </td><td>Caudatum </td><td>4        </td><td>0        </td><td>NA       </td><td>66       </td><td>146.61   </td><td>1286     </td><td>27.32    </td><td>43.95    </td><td> 97.00000</td><td>14.33333 </td><td>57.95000 </td></tr>\n",
       "\t<tr><td>PI17548  </td><td>Kafir    </td><td>2        </td><td>0        </td><td>NA       </td><td>66       </td><td>214.06   </td><td>1167     </td><td>15.62    </td><td>26.66    </td><td>156.83333</td><td>22.83333 </td><td>83.41667 </td></tr>\n",
       "\t<tr><td>PI24969  </td><td>Durra    </td><td>3        </td><td>0        </td><td>NA       </td><td>80       </td><td>182.06   </td><td>1319     </td><td>29.92    </td><td>50.86    </td><td>162.00000</td><td>13.33333 </td><td>41.83333 </td></tr>\n",
       "\t<tr><td>PI329435 </td><td>Mixed    </td><td>1        </td><td>0        </td><td>NA       </td><td>80       </td><td> 95.50   </td><td>1388     </td><td>15.68    </td><td>30.47    </td><td> 65.83333</td><td>26.00000 </td><td>72.58333 </td></tr>\n",
       "\t<tr><td>PI329440 </td><td>Kafir    </td><td>2        </td><td>0        </td><td>NA       </td><td>69       </td><td> 93.61   </td><td>2141     </td><td>17.61    </td><td>48.35    </td><td> 58.00000</td><td>23.83333 </td><td>67.16667 </td></tr>\n",
       "\t<tr><td>PI34911  </td><td>Caudatum </td><td>4        </td><td>0        </td><td>NA       </td><td>87       </td><td>179.67   </td><td>1587     </td><td>25.50    </td><td>52.56    </td><td>150.00000</td><td>14.33333 </td><td>39.75000 </td></tr>\n",
       "</tbody>\n",
       "</table>\n"
      ],
      "text/latex": [
       "\\begin{tabular}{r|lllllllllllll}\n",
       " PI & Subpopulation & Cluster & Race & Origin & DTA & PH & GN & GW & GY & FLH & PL & BL\\\\\n",
       "\\hline\n",
       "\t PI152651  & Caudatum  & 4         & 0         & NA        & 66        & 146.61    & 1286      & 27.32     & 43.95     &  97.00000 & 14.33333  & 57.95000 \\\\\n",
       "\t PI17548   & Kafir     & 2         & 0         & NA        & 66        & 214.06    & 1167      & 15.62     & 26.66     & 156.83333 & 22.83333  & 83.41667 \\\\\n",
       "\t PI24969   & Durra     & 3         & 0         & NA        & 80        & 182.06    & 1319      & 29.92     & 50.86     & 162.00000 & 13.33333  & 41.83333 \\\\\n",
       "\t PI329435  & Mixed     & 1         & 0         & NA        & 80        &  95.50    & 1388      & 15.68     & 30.47     &  65.83333 & 26.00000  & 72.58333 \\\\\n",
       "\t PI329440  & Kafir     & 2         & 0         & NA        & 69        &  93.61    & 2141      & 17.61     & 48.35     &  58.00000 & 23.83333  & 67.16667 \\\\\n",
       "\t PI34911   & Caudatum  & 4         & 0         & NA        & 87        & 179.67    & 1587      & 25.50     & 52.56     & 150.00000 & 14.33333  & 39.75000 \\\\\n",
       "\\end{tabular}\n"
      ],
      "text/markdown": [
       "\n",
       "| PI | Subpopulation | Cluster | Race | Origin | DTA | PH | GN | GW | GY | FLH | PL | BL |\n",
       "|---|---|---|---|---|---|---|---|---|---|---|---|---|\n",
       "| PI152651  | Caudatum  | 4         | 0         | NA        | 66        | 146.61    | 1286      | 27.32     | 43.95     |  97.00000 | 14.33333  | 57.95000  |\n",
       "| PI17548   | Kafir     | 2         | 0         | NA        | 66        | 214.06    | 1167      | 15.62     | 26.66     | 156.83333 | 22.83333  | 83.41667  |\n",
       "| PI24969   | Durra     | 3         | 0         | NA        | 80        | 182.06    | 1319      | 29.92     | 50.86     | 162.00000 | 13.33333  | 41.83333  |\n",
       "| PI329435  | Mixed     | 1         | 0         | NA        | 80        |  95.50    | 1388      | 15.68     | 30.47     |  65.83333 | 26.00000  | 72.58333  |\n",
       "| PI329440  | Kafir     | 2         | 0         | NA        | 69        |  93.61    | 2141      | 17.61     | 48.35     |  58.00000 | 23.83333  | 67.16667  |\n",
       "| PI34911   | Caudatum  | 4         | 0         | NA        | 87        | 179.67    | 1587      | 25.50     | 52.56     | 150.00000 | 14.33333  | 39.75000  |\n",
       "\n"
      ],
      "text/plain": [
       "  PI       Subpopulation Cluster Race Origin DTA PH     GN   GW    GY   \n",
       "1 PI152651 Caudatum      4       0    NA     66  146.61 1286 27.32 43.95\n",
       "2 PI17548  Kafir         2       0    NA     66  214.06 1167 15.62 26.66\n",
       "3 PI24969  Durra         3       0    NA     80  182.06 1319 29.92 50.86\n",
       "4 PI329435 Mixed         1       0    NA     80   95.50 1388 15.68 30.47\n",
       "5 PI329440 Kafir         2       0    NA     69   93.61 2141 17.61 48.35\n",
       "6 PI34911  Caudatum      4       0    NA     87  179.67 1587 25.50 52.56\n",
       "  FLH       PL       BL      \n",
       "1  97.00000 14.33333 57.95000\n",
       "2 156.83333 22.83333 83.41667\n",
       "3 162.00000 13.33333 41.83333\n",
       "4  65.83333 26.00000 72.58333\n",
       "5  58.00000 23.83333 67.16667\n",
       "6 150.00000 14.33333 39.75000"
      ]
     },
     "metadata": {},
     "output_type": "display_data"
    },
    {
     "data": {
      "text/html": [
       "<ol class=list-inline>\n",
       "\t<li>389</li>\n",
       "\t<li>224007</li>\n",
       "</ol>\n"
      ],
      "text/latex": [
       "\\begin{enumerate*}\n",
       "\\item 389\n",
       "\\item 224007\n",
       "\\end{enumerate*}\n"
      ],
      "text/markdown": [
       "1. 389\n",
       "2. 224007\n",
       "\n",
       "\n"
      ],
      "text/plain": [
       "[1]    389 224007"
      ]
     },
     "metadata": {},
     "output_type": "display_data"
    },
    {
     "data": {
      "text/html": [
       "<ol class=list-inline>\n",
       "\t<li>389</li>\n",
       "\t<li>13</li>\n",
       "</ol>\n"
      ],
      "text/latex": [
       "\\begin{enumerate*}\n",
       "\\item 389\n",
       "\\item 13\n",
       "\\end{enumerate*}\n"
      ],
      "text/markdown": [
       "1. 389\n",
       "2. 13\n",
       "\n",
       "\n"
      ],
      "text/plain": [
       "[1] 389  13"
      ]
     },
     "metadata": {},
     "output_type": "display_data"
    }
   ],
   "source": [
    ".libPaths(c('/Users/ssapkot/Documents/Experiments/MyRlibs',.libPaths()))\n",
    "\n",
    "\n",
    "library(rrBLUP)\n",
    "library(foreach)\n",
    "library(doMC)\n",
    "\n",
    "setwd(\"/Users/ssapkot/Documents/Experiments/SAP_GS_PopStr\")\n",
    "load(\"Data/GS_geno_pheno.RData\")\n",
    "Y <- read.csv('data/BLUEs_pheno_all.csv', header=T)\n",
    "\n",
    "head(Y)\n",
    "dim(X)\n",
    "dim(Y)"
   ]
  },
  {
   "cell_type": "code",
   "execution_count": 40,
   "metadata": {},
   "outputs": [
    {
     "data": {
      "text/html": [
       "<ol class=list-inline>\n",
       "\t<li>66</li>\n",
       "\t<li>257</li>\n",
       "\t<li>150</li>\n",
       "\t<li>232</li>\n",
       "\t<li>330</li>\n",
       "\t<li>277</li>\n",
       "\t<li>292</li>\n",
       "\t<li>247</li>\n",
       "\t<li>294</li>\n",
       "\t<li>331</li>\n",
       "\t<li>248</li>\n",
       "\t<li>310</li>\n",
       "\t<li>295</li>\n",
       "\t<li>86</li>\n",
       "\t<li>155</li>\n",
       "\t<li>70</li>\n",
       "\t<li>181</li>\n",
       "\t<li>231</li>\n",
       "\t<li>8</li>\n",
       "\t<li>304</li>\n",
       "\t<li>230</li>\n",
       "\t<li>328</li>\n",
       "\t<li>291</li>\n",
       "\t<li>141</li>\n",
       "\t<li>275</li>\n",
       "\t<li>256</li>\n",
       "\t<li>109</li>\n",
       "\t<li>67</li>\n",
       "\t<li>72</li>\n",
       "\t<li>152</li>\n",
       "\t<li>333</li>\n",
       "\t<li>75</li>\n",
       "\t<li>264</li>\n",
       "\t<li>156</li>\n",
       "\t<li>191</li>\n",
       "\t<li>319</li>\n",
       "</ol>\n"
      ],
      "text/latex": [
       "\\begin{enumerate*}\n",
       "\\item 66\n",
       "\\item 257\n",
       "\\item 150\n",
       "\\item 232\n",
       "\\item 330\n",
       "\\item 277\n",
       "\\item 292\n",
       "\\item 247\n",
       "\\item 294\n",
       "\\item 331\n",
       "\\item 248\n",
       "\\item 310\n",
       "\\item 295\n",
       "\\item 86\n",
       "\\item 155\n",
       "\\item 70\n",
       "\\item 181\n",
       "\\item 231\n",
       "\\item 8\n",
       "\\item 304\n",
       "\\item 230\n",
       "\\item 328\n",
       "\\item 291\n",
       "\\item 141\n",
       "\\item 275\n",
       "\\item 256\n",
       "\\item 109\n",
       "\\item 67\n",
       "\\item 72\n",
       "\\item 152\n",
       "\\item 333\n",
       "\\item 75\n",
       "\\item 264\n",
       "\\item 156\n",
       "\\item 191\n",
       "\\item 319\n",
       "\\end{enumerate*}\n"
      ],
      "text/markdown": [
       "1. 66\n",
       "2. 257\n",
       "3. 150\n",
       "4. 232\n",
       "5. 330\n",
       "6. 277\n",
       "7. 292\n",
       "8. 247\n",
       "9. 294\n",
       "10. 331\n",
       "11. 248\n",
       "12. 310\n",
       "13. 295\n",
       "14. 86\n",
       "15. 155\n",
       "16. 70\n",
       "17. 181\n",
       "18. 231\n",
       "19. 8\n",
       "20. 304\n",
       "21. 230\n",
       "22. 328\n",
       "23. 291\n",
       "24. 141\n",
       "25. 275\n",
       "26. 256\n",
       "27. 109\n",
       "28. 67\n",
       "29. 72\n",
       "30. 152\n",
       "31. 333\n",
       "32. 75\n",
       "33. 264\n",
       "34. 156\n",
       "35. 191\n",
       "36. 319\n",
       "\n",
       "\n"
      ],
      "text/plain": [
       " [1]  66 257 150 232 330 277 292 247 294 331 248 310 295  86 155  70 181 231   8\n",
       "[20] 304 230 328 291 141 275 256 109  67  72 152 333  75 264 156 191 319"
      ]
     },
     "metadata": {},
     "output_type": "display_data"
    },
    {
     "data": {
      "text/html": [
       "36"
      ],
      "text/latex": [
       "36"
      ],
      "text/markdown": [
       "36"
      ],
      "text/plain": [
       "[1] 36"
      ]
     },
     "metadata": {},
     "output_type": "display_data"
    },
    {
     "data": {
      "text/html": [
       "<table>\n",
       "<thead><tr><th scope=col>V1</th><th scope=col>V2</th><th scope=col>V3</th><th scope=col>V4</th><th scope=col>V5</th><th scope=col>V6</th><th scope=col>V7</th><th scope=col>V8</th><th scope=col>V9</th><th scope=col>V10</th><th scope=col>...</th><th scope=col>V91</th><th scope=col>V92</th><th scope=col>V93</th><th scope=col>V94</th><th scope=col>V95</th><th scope=col>V96</th><th scope=col>V97</th><th scope=col>V98</th><th scope=col>V99</th><th scope=col>V100</th></tr></thead>\n",
       "<tbody>\n",
       "\t<tr><td>126</td><td>241</td><td>227</td><td>158</td><td>279</td><td>279</td><td>137</td><td>199</td><td> 38</td><td> 47</td><td>...</td><td>126</td><td> 68</td><td> 69</td><td>278</td><td> 49</td><td> 61</td><td> 61</td><td> 49</td><td>385</td><td>202</td></tr>\n",
       "\t<tr><td>252</td><td> 76</td><td>  4</td><td> 61</td><td> 77</td><td>127</td><td>157</td><td>105</td><td>215</td><td> 32</td><td>...</td><td>197</td><td> 76</td><td>279</td><td>158</td><td> 65</td><td>198</td><td>197</td><td>278</td><td>278</td><td>378</td></tr>\n",
       "\t<tr><td>157</td><td>127</td><td>165</td><td>351</td><td>380</td><td>218</td><td>268</td><td>188</td><td>126</td><td>378</td><td>...</td><td>378</td><td>208</td><td>187</td><td>341</td><td>373</td><td>378</td><td>189</td><td>137</td><td> 49</td><td> 65</td></tr>\n",
       "\t<tr><td>279</td><td>380</td><td> 76</td><td>126</td><td> 42</td><td> 94</td><td>324</td><td>241</td><td> 47</td><td>380</td><td>...</td><td>324</td><td>164</td><td> 94</td><td> 42</td><td> 68</td><td>188</td><td> 62</td><td>241</td><td>380</td><td>373</td></tr>\n",
       "\t<tr><td>341</td><td> 51</td><td>137</td><td> 38</td><td>378</td><td>197</td><td>105</td><td> 62</td><td> 42</td><td>129</td><td>...</td><td>229</td><td> 47</td><td>242</td><td>242</td><td>127</td><td> 51</td><td>341</td><td>288</td><td>189</td><td>196</td></tr>\n",
       "\t<tr><td> 32</td><td>146</td><td>197</td><td>324</td><td>217</td><td>164</td><td>341</td><td>146</td><td>269</td><td>279</td><td>...</td><td>252</td><td> 61</td><td> 42</td><td>165</td><td>204</td><td> 62</td><td>198</td><td>199</td><td>204</td><td>217</td></tr>\n",
       "</tbody>\n",
       "</table>\n"
      ],
      "text/latex": [
       "\\begin{tabular}{r|llllllllllllllllllllllllllllllllllllllllllllllllllllllllllllllllllllllllllllllllllllllllllllllllllll}\n",
       " V1 & V2 & V3 & V4 & V5 & V6 & V7 & V8 & V9 & V10 & ... & V91 & V92 & V93 & V94 & V95 & V96 & V97 & V98 & V99 & V100\\\\\n",
       "\\hline\n",
       "\t 126 & 241 & 227 & 158 & 279 & 279 & 137 & 199 &  38 &  47 & ... & 126 &  68 &  69 & 278 &  49 &  61 &  61 &  49 & 385 & 202\\\\\n",
       "\t 252 &  76 &   4 &  61 &  77 & 127 & 157 & 105 & 215 &  32 & ... & 197 &  76 & 279 & 158 &  65 & 198 & 197 & 278 & 278 & 378\\\\\n",
       "\t 157 & 127 & 165 & 351 & 380 & 218 & 268 & 188 & 126 & 378 & ... & 378 & 208 & 187 & 341 & 373 & 378 & 189 & 137 &  49 &  65\\\\\n",
       "\t 279 & 380 &  76 & 126 &  42 &  94 & 324 & 241 &  47 & 380 & ... & 324 & 164 &  94 &  42 &  68 & 188 &  62 & 241 & 380 & 373\\\\\n",
       "\t 341 &  51 & 137 &  38 & 378 & 197 & 105 &  62 &  42 & 129 & ... & 229 &  47 & 242 & 242 & 127 &  51 & 341 & 288 & 189 & 196\\\\\n",
       "\t  32 & 146 & 197 & 324 & 217 & 164 & 341 & 146 & 269 & 279 & ... & 252 &  61 &  42 & 165 & 204 &  62 & 198 & 199 & 204 & 217\\\\\n",
       "\\end{tabular}\n"
      ],
      "text/markdown": [
       "\n",
       "| V1 | V2 | V3 | V4 | V5 | V6 | V7 | V8 | V9 | V10 | ... | V91 | V92 | V93 | V94 | V95 | V96 | V97 | V98 | V99 | V100 |\n",
       "|---|---|---|---|---|---|---|---|---|---|---|---|---|---|---|---|---|---|---|---|---|\n",
       "| 126 | 241 | 227 | 158 | 279 | 279 | 137 | 199 |  38 |  47 | ... | 126 |  68 |  69 | 278 |  49 |  61 |  61 |  49 | 385 | 202 |\n",
       "| 252 |  76 |   4 |  61 |  77 | 127 | 157 | 105 | 215 |  32 | ... | 197 |  76 | 279 | 158 |  65 | 198 | 197 | 278 | 278 | 378 |\n",
       "| 157 | 127 | 165 | 351 | 380 | 218 | 268 | 188 | 126 | 378 | ... | 378 | 208 | 187 | 341 | 373 | 378 | 189 | 137 |  49 |  65 |\n",
       "| 279 | 380 |  76 | 126 |  42 |  94 | 324 | 241 |  47 | 380 | ... | 324 | 164 |  94 |  42 |  68 | 188 |  62 | 241 | 380 | 373 |\n",
       "| 341 |  51 | 137 |  38 | 378 | 197 | 105 |  62 |  42 | 129 | ... | 229 |  47 | 242 | 242 | 127 |  51 | 341 | 288 | 189 | 196 |\n",
       "|  32 | 146 | 197 | 324 | 217 | 164 | 341 | 146 | 269 | 279 | ... | 252 |  61 |  42 | 165 | 204 |  62 | 198 | 199 | 204 | 217 |\n",
       "\n"
      ],
      "text/plain": [
       "  V1  V2  V3  V4  V5  V6  V7  V8  V9  V10 ... V91 V92 V93 V94 V95 V96 V97 V98\n",
       "1 126 241 227 158 279 279 137 199  38  47 ... 126  68  69 278  49  61  61  49\n",
       "2 252  76   4  61  77 127 157 105 215  32 ... 197  76 279 158  65 198 197 278\n",
       "3 157 127 165 351 380 218 268 188 126 378 ... 378 208 187 341 373 378 189 137\n",
       "4 279 380  76 126  42  94 324 241  47 380 ... 324 164  94  42  68 188  62 241\n",
       "5 341  51 137  38 378 197 105  62  42 129 ... 229  47 242 242 127  51 341 288\n",
       "6  32 146 197 324 217 164 341 146 269 279 ... 252  61  42 165 204  62 198 199\n",
       "  V99 V100\n",
       "1 385 202 \n",
       "2 278 378 \n",
       "3  49  65 \n",
       "4 380 373 \n",
       "5 189 196 \n",
       "6 204 217 "
      ]
     },
     "metadata": {},
     "output_type": "display_data"
    }
   ],
   "source": [
    "cvf <- data.frame(matrix(\"\",nrow=36, ncol=0))\n",
    "set.seed(123)\n",
    "Y$SN = 1:nrow(Y)\n",
    "    \n",
    "    for (j in 1:100){\n",
    "    \n",
    "    c.list = vector(\"list\", 3)\n",
    "    \n",
    "    for (i in c(1,3)) {\n",
    "      ctemp = Y[Y$Cluster==i,] #subset individuals from a cluster\n",
    "      x2 = sample(ctemp$SN,18) # sample individuals randomly from a cluster and store their rowID\n",
    "      c.list[[i]] = x2\n",
    "    }\n",
    "      cvf[j] <- c(c.list[[1]],c.list[[3]]) # Make dataframe for each cluster to a total of 100 reps\n",
    "    }\n",
    "\n",
    "ctemp = Y[Y$Cluster==2,] \n",
    "kaf <- sample(ctemp$SN,36)\n",
    "kaf\n",
    "nrow(cvf)\n",
    "head(cvf)\n",
    "\n"
   ]
  },
  {
   "cell_type": "code",
   "execution_count": 41,
   "metadata": {},
   "outputs": [
    {
     "data": {
      "text/html": [
       "<ol>\n",
       "\t<li>NULL</li>\n",
       "\t<li>NULL</li>\n",
       "\t<li>NULL</li>\n",
       "\t<li>NULL</li>\n",
       "</ol>\n"
      ],
      "text/latex": [
       "\\begin{enumerate}\n",
       "\\item NULL\n",
       "\\item NULL\n",
       "\\item NULL\n",
       "\\item NULL\n",
       "\\end{enumerate}\n"
      ],
      "text/markdown": [
       "1. NULL\n",
       "2. NULL\n",
       "3. NULL\n",
       "4. NULL\n",
       "\n",
       "\n"
      ],
      "text/plain": [
       "[[1]]\n",
       "NULL\n",
       "\n",
       "[[2]]\n",
       "NULL\n",
       "\n",
       "[[3]]\n",
       "NULL\n",
       "\n",
       "[[4]]\n",
       "NULL\n"
      ]
     },
     "metadata": {},
     "output_type": "display_data"
    }
   ],
   "source": [
    "setwd(\"/Users/ssapkot/Documents/Experiments/SAP_GS_PopStr/Results/Prediction_Results/Kafir_AR_divergence/Kafir_trN-36\")\n",
    "Total_accuracy <- vector(\"list\",5)\n",
    "registerDoMC(4)\n",
    "foreach (j= 7:10) %dopar% {\n",
    "\n",
    "  for (i in 1:101) {\n",
    "  CV.fold <- paste(\"V\",toString(i-1),sep='')\n",
    " \n",
    "  if (CV.fold == \"V0\") {\n",
    "    Total_Result <- c()\n",
    "      result<- c()\n",
    "  }\n",
    "  else {\n",
    "  Z <- cvf[,CV.fold]\n",
    "  Z <- c(Z,kaf)\n",
    "  Z <- sort(Z) ##sort randomly selected individuals by taxa order, and so the pheno and geno will be in the same order when subsetted\n",
    "  \n",
    "  X1 <- X[Z,]\n",
    "  \n",
    "  A <- A.mat(X1)\n",
    "  \n",
    "  rownames(A) <- 1:nrow(X1)\n",
    "  P <- Y[Z,]\n",
    "  cvs <- P$Cluster#fold is determined by cluster each individual belongs to\n",
    "  \n",
    "  y = P[,j]\n",
    "  col = names(P[j])\n",
    "  \n",
    "  yhat <- data.frame(cbind( y, yhat = 0))\n",
    "  yhat$yhat <- as.numeric(yhat$yhat)\n",
    "  row.names(yhat) <- row.names(y)\n",
    "  \n",
    "      result <- c()\n",
    "      corr <- c()\n",
    "      var_x <- c()\n",
    "      var_y <- c()\n",
    "      cov_xy <- c()\n",
    "  \n",
    "    # Make training (TRN) and testing (TST) dfs\n",
    "    tst <- which(cvs == 2) ##cvs == whichever cluster/race is to be predicted\n",
    "    yNA <- y\n",
    "    yNA[tst] <- NA # Mask yields for validation set\n",
    "    df <- data.frame(y=yNA,gid=1:nrow(A)) # Set up dataframe with traits and genotype labels (same order as in A1) \n",
    "    \n",
    "    # Build rrBLUP model and save yhat for the masked values\n",
    "    rrblup <- kin.blup(df,K=A,geno=\"gid\",pheno=\"y\") #optional parameters: fixed effects, gaussian kernel, covariates\n",
    "    yhat$yhat[tst] = rrblup$pred[tst]\n",
    "    \n",
    "    corr <- cor(yhat$y[tst],yhat$yhat[tst],use=\"complete\")\n",
    "    var_x <- var(yhat$yhat[tst], use=\"complete\")\n",
    "    var_y <- var(yhat$y[tst], use=\"complete\")\n",
    "    cov_xy <- cov(yhat$y[tst],yhat$yhat[tst], use=\"complete\")\n",
    "  \n",
    "      result <- c(corr,var_x,var_y,cov_xy)\n",
    "      }\n",
    "      Total_Result <- cbind(Total_Result,result)\n",
    "  \n",
    "  }\n",
    "    rownames(Total_Result) <- c(\"corr\",\"var_x\",\"var_y\",\"cov_xy\")\n",
    "    \n",
    "  write.csv(Total_Result, file = paste(\"AR_Kafir_Train-MD_n36_\",col,\".csv\", sep=\"\"))\n",
    "    }"
   ]
  },
  {
   "cell_type": "code",
   "execution_count": null,
   "metadata": {},
   "outputs": [],
   "source": []
  }
 ],
 "metadata": {
  "kernelspec": {
   "display_name": "R 3.6.0",
   "language": "R",
   "name": "ir36"
  },
  "language_info": {
   "codemirror_mode": "r",
   "file_extension": ".r",
   "mimetype": "text/x-r-source",
   "name": "R",
   "pygments_lexer": "r",
   "version": "3.6.0"
  }
 },
 "nbformat": 4,
 "nbformat_minor": 2
}
