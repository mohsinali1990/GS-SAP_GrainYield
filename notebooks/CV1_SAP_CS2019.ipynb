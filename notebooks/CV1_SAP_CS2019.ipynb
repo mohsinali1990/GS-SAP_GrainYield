{
 "cells": [
  {
   "cell_type": "code",
   "execution_count": 2,
   "metadata": {},
   "outputs": [
    {
     "name": "stderr",
     "output_type": "stream",
     "text": [
      "also installing the dependency ‘RcppArmadillo’\n",
      "\n",
      "Warning message in install.packages(\"sommer\", repos = \"http://cran.us.r-project.org\"):\n",
      "“installation of package ‘RcppArmadillo’ had non-zero exit status”Warning message in install.packages(\"sommer\", repos = \"http://cran.us.r-project.org\"):\n",
      "“installation of package ‘sommer’ had non-zero exit status”Updating HTML index of packages in '.Library'\n",
      "Making 'packages.html' ... done\n"
     ]
    },
    {
     "ename": "ERROR",
     "evalue": "Error in library(sommer): there is no package called ‘sommer’\n",
     "output_type": "error",
     "traceback": [
      "Error in library(sommer): there is no package called ‘sommer’\nTraceback:\n",
      "1. library(sommer)",
      "2. stop(txt, domain = NA)"
     ]
    }
   ],
   "source": [
    ".libPaths(c('/anaconda2/lib/R/library',.libPaths()))\n",
    "setwd(\"/Users/ssapkot/Documents/Experiments/SAP_GS_PopStr\")\n",
    "\n",
    "library(rrBLUP)\n",
    "library(ggplot2)\n",
    "library(BGLR)\n",
    "require(dplyr)\n",
    "require(reshape2)\n",
    "\n",
    "install.packages(\"sommer\",repos='http://cran.us.r-project.org')\n",
    "library(sommer)\n",
    "\n",
    "my.read.vcf <- function(file, special.char=\"##\", ...) {\n",
    "  my.search.term <- paste0(special.char, \".*\")  # Making a search term that looks like: \"##.*\", tells R to find anything containing the pattern \"##\" followed by anything (* is wildcard)\n",
    "  clean.lines <- sub(my.search.term, \"\", readLines(file)) # Replace any line containing the search term with nothing (in other words remove it)\n",
    "  clean.lines2 <- sub(\"#CHROM\", \"CHROM\", clean.lines) # Replace the #CHROM term in the header with CHROM, so R doesn't treat it as a special character\n",
    "  read.table(..., text=paste(clean.lines2, collapse=\"\\n\")) # Pass the cleaned up lines to read.table\n",
    "}"
   ]
  },
  {
   "cell_type": "code",
   "execution_count": 3,
   "metadata": {},
   "outputs": [
    {
     "data": {
      "text/html": [
       "<table>\n",
       "<thead><tr><th></th><th scope=col>Subpopulation</th><th scope=col>Cluster</th><th scope=col>Race</th><th scope=col>Origin</th><th scope=col>DTA</th><th scope=col>PH</th><th scope=col>GN</th><th scope=col>GW</th><th scope=col>GY</th><th scope=col>FLH</th><th scope=col>PL</th><th scope=col>BL</th></tr></thead>\n",
       "<tbody>\n",
       "\t<tr><th scope=row>PI152651</th><td>Caudatum </td><td>4        </td><td>0        </td><td>NA       </td><td>66       </td><td>146.61   </td><td>1286     </td><td>27.32    </td><td>43.95    </td><td> 97.00000</td><td>14.33333 </td><td>57.95000 </td></tr>\n",
       "\t<tr><th scope=row>PI17548</th><td>Kafir    </td><td>2        </td><td>0        </td><td>NA       </td><td>66       </td><td>214.06   </td><td>1167     </td><td>15.62    </td><td>26.66    </td><td>156.83333</td><td>22.83333 </td><td>83.41667 </td></tr>\n",
       "\t<tr><th scope=row>PI24969</th><td>Durra    </td><td>3        </td><td>0        </td><td>NA       </td><td>80       </td><td>182.06   </td><td>1319     </td><td>29.92    </td><td>50.86    </td><td>162.00000</td><td>13.33333 </td><td>41.83333 </td></tr>\n",
       "\t<tr><th scope=row>PI329435</th><td>Mixed    </td><td>1        </td><td>0        </td><td>NA       </td><td>80       </td><td> 95.50   </td><td>1388     </td><td>15.68    </td><td>30.47    </td><td> 65.83333</td><td>26.00000 </td><td>72.58333 </td></tr>\n",
       "\t<tr><th scope=row>PI329440</th><td>Kafir    </td><td>2        </td><td>0        </td><td>NA       </td><td>69       </td><td> 93.61   </td><td>2141     </td><td>17.61    </td><td>48.35    </td><td> 58.00000</td><td>23.83333 </td><td>67.16667 </td></tr>\n",
       "\t<tr><th scope=row>PI34911</th><td>Caudatum </td><td>4        </td><td>0        </td><td>NA       </td><td>87       </td><td>179.67   </td><td>1587     </td><td>25.50    </td><td>52.56    </td><td>150.00000</td><td>14.33333 </td><td>39.75000 </td></tr>\n",
       "</tbody>\n",
       "</table>\n"
      ],
      "text/latex": [
       "\\begin{tabular}{r|llllllllllll}\n",
       "  & Subpopulation & Cluster & Race & Origin & DTA & PH & GN & GW & GY & FLH & PL & BL\\\\\n",
       "\\hline\n",
       "\tPI152651 & Caudatum  & 4         & 0         & NA        & 66        & 146.61    & 1286      & 27.32     & 43.95     &  97.00000 & 14.33333  & 57.95000 \\\\\n",
       "\tPI17548 & Kafir     & 2         & 0         & NA        & 66        & 214.06    & 1167      & 15.62     & 26.66     & 156.83333 & 22.83333  & 83.41667 \\\\\n",
       "\tPI24969 & Durra     & 3         & 0         & NA        & 80        & 182.06    & 1319      & 29.92     & 50.86     & 162.00000 & 13.33333  & 41.83333 \\\\\n",
       "\tPI329435 & Mixed     & 1         & 0         & NA        & 80        &  95.50    & 1388      & 15.68     & 30.47     &  65.83333 & 26.00000  & 72.58333 \\\\\n",
       "\tPI329440 & Kafir     & 2         & 0         & NA        & 69        &  93.61    & 2141      & 17.61     & 48.35     &  58.00000 & 23.83333  & 67.16667 \\\\\n",
       "\tPI34911 & Caudatum  & 4         & 0         & NA        & 87        & 179.67    & 1587      & 25.50     & 52.56     & 150.00000 & 14.33333  & 39.75000 \\\\\n",
       "\\end{tabular}\n"
      ],
      "text/markdown": [
       "\n",
       "| <!--/--> | Subpopulation | Cluster | Race | Origin | DTA | PH | GN | GW | GY | FLH | PL | BL | \n",
       "|---|---|---|---|---|---|\n",
       "| PI152651 | Caudatum  | 4         | 0         | NA        | 66        | 146.61    | 1286      | 27.32     | 43.95     |  97.00000 | 14.33333  | 57.95000  | \n",
       "| PI17548 | Kafir     | 2         | 0         | NA        | 66        | 214.06    | 1167      | 15.62     | 26.66     | 156.83333 | 22.83333  | 83.41667  | \n",
       "| PI24969 | Durra     | 3         | 0         | NA        | 80        | 182.06    | 1319      | 29.92     | 50.86     | 162.00000 | 13.33333  | 41.83333  | \n",
       "| PI329435 | Mixed     | 1         | 0         | NA        | 80        |  95.50    | 1388      | 15.68     | 30.47     |  65.83333 | 26.00000  | 72.58333  | \n",
       "| PI329440 | Kafir     | 2         | 0         | NA        | 69        |  93.61    | 2141      | 17.61     | 48.35     |  58.00000 | 23.83333  | 67.16667  | \n",
       "| PI34911 | Caudatum  | 4         | 0         | NA        | 87        | 179.67    | 1587      | 25.50     | 52.56     | 150.00000 | 14.33333  | 39.75000  | \n",
       "\n",
       "\n"
      ],
      "text/plain": [
       "         Subpopulation Cluster Race Origin DTA PH     GN   GW    GY   \n",
       "PI152651 Caudatum      4       0    NA     66  146.61 1286 27.32 43.95\n",
       "PI17548  Kafir         2       0    NA     66  214.06 1167 15.62 26.66\n",
       "PI24969  Durra         3       0    NA     80  182.06 1319 29.92 50.86\n",
       "PI329435 Mixed         1       0    NA     80   95.50 1388 15.68 30.47\n",
       "PI329440 Kafir         2       0    NA     69   93.61 2141 17.61 48.35\n",
       "PI34911  Caudatum      4       0    NA     87  179.67 1587 25.50 52.56\n",
       "         FLH       PL       BL      \n",
       "PI152651  97.00000 14.33333 57.95000\n",
       "PI17548  156.83333 22.83333 83.41667\n",
       "PI24969  162.00000 13.33333 41.83333\n",
       "PI329435  65.83333 26.00000 72.58333\n",
       "PI329440  58.00000 23.83333 67.16667\n",
       "PI34911  150.00000 14.33333 39.75000"
      ]
     },
     "metadata": {},
     "output_type": "display_data"
    }
   ],
   "source": [
    "GBS=my.read.vcf(file= \"data/SAP_all_taxa.vcf\", header=TRUE, stringsAsFactors = TRUE, as.is=TRUE)\n",
    "Y <- read.csv('data/BLUEs_pheno_all.csv', header=T, row.names = 1)\n",
    "\n",
    "## view head of phenotype file\n",
    "head(Y)"
   ]
  },
  {
   "cell_type": "code",
   "execution_count": 4,
   "metadata": {},
   "outputs": [],
   "source": [
    "f.column <- grep(\"FORMAT\", colnames(GBS))\n",
    "\n",
    "##Function Parse vcf file to convert to -1,0,1 format\n",
    "parse.GBS <- function(x) {\n",
    "  unique.x <- unique(x)\n",
    "  alleles <- setdiff(unique.x,union(\"H\",\"N\"))\n",
    "  y <- rep(0,length(x))\n",
    "  y[which(x==alleles[1])] <- -1\n",
    "  y[which(x==alleles[2])] <- 1\n",
    "  y[which(x==\"N\")] <- NA\n",
    "  return(y)\n",
    "}\n",
    "\n",
    "X <- apply(GBS[, -c(1:f.column)],1,parse.GBS)\n",
    "\n",
    "####  calculate the genomic relationship matrix\n",
    "A = A.mat(X)\n",
    "rownames(A) <- 1:nrow(X)"
   ]
  },
  {
   "cell_type": "code",
   "execution_count": 10,
   "metadata": {},
   "outputs": [
    {
     "data": {
      "text/html": [
       "<table>\n",
       "<thead><tr><th scope=col>CV_1</th><th scope=col>CV_2</th><th scope=col>CV_3</th><th scope=col>CV_4</th><th scope=col>CV_5</th><th scope=col>CV_6</th><th scope=col>CV_7</th><th scope=col>CV_8</th><th scope=col>CV_9</th><th scope=col>CV_10</th><th scope=col>⋯</th><th scope=col>CV_91</th><th scope=col>CV_92</th><th scope=col>CV_93</th><th scope=col>CV_94</th><th scope=col>CV_95</th><th scope=col>CV_96</th><th scope=col>CV_97</th><th scope=col>CV_98</th><th scope=col>CV_99</th><th scope=col>CV_100</th></tr></thead>\n",
       "<tbody>\n",
       "\t<tr><td>5</td><td>3</td><td>3</td><td>2</td><td>4</td><td>1</td><td>1</td><td>4</td><td>3</td><td>5</td><td>⋯</td><td>1</td><td>5</td><td>1</td><td>5</td><td>4</td><td>1</td><td>5</td><td>1</td><td>4</td><td>4</td></tr>\n",
       "\t<tr><td>3</td><td>5</td><td>1</td><td>4</td><td>5</td><td>4</td><td>5</td><td>1</td><td>1</td><td>3</td><td>⋯</td><td>4</td><td>2</td><td>5</td><td>2</td><td>5</td><td>1</td><td>1</td><td>4</td><td>2</td><td>3</td></tr>\n",
       "\t<tr><td>2</td><td>1</td><td>2</td><td>1</td><td>3</td><td>4</td><td>4</td><td>1</td><td>1</td><td>4</td><td>⋯</td><td>3</td><td>2</td><td>1</td><td>2</td><td>3</td><td>4</td><td>1</td><td>5</td><td>3</td><td>5</td></tr>\n",
       "\t<tr><td>4</td><td>4</td><td>3</td><td>1</td><td>3</td><td>3</td><td>1</td><td>5</td><td>1</td><td>2</td><td>⋯</td><td>1</td><td>3</td><td>4</td><td>4</td><td>1</td><td>5</td><td>4</td><td>1</td><td>2</td><td>2</td></tr>\n",
       "\t<tr><td>4</td><td>4</td><td>2</td><td>2</td><td>5</td><td>3</td><td>1</td><td>4</td><td>2</td><td>4</td><td>⋯</td><td>3</td><td>5</td><td>4</td><td>4</td><td>3</td><td>5</td><td>1</td><td>1</td><td>1</td><td>2</td></tr>\n",
       "\t<tr><td>5</td><td>4</td><td>5</td><td>4</td><td>2</td><td>1</td><td>5</td><td>5</td><td>3</td><td>3</td><td>⋯</td><td>2</td><td>2</td><td>1</td><td>4</td><td>5</td><td>3</td><td>4</td><td>2</td><td>3</td><td>3</td></tr>\n",
       "</tbody>\n",
       "</table>\n"
      ],
      "text/latex": [
       "\\begin{tabular}{r|llllllllllllllllllllllllllllllllllllllllllllllllllllllllllllllllllllllllllllllllllllllllllllllllllll}\n",
       " CV\\_1 & CV\\_2 & CV\\_3 & CV\\_4 & CV\\_5 & CV\\_6 & CV\\_7 & CV\\_8 & CV\\_9 & CV\\_10 & ⋯ & CV\\_91 & CV\\_92 & CV\\_93 & CV\\_94 & CV\\_95 & CV\\_96 & CV\\_97 & CV\\_98 & CV\\_99 & CV\\_100\\\\\n",
       "\\hline\n",
       "\t 5 & 3 & 3 & 2 & 4 & 1 & 1 & 4 & 3 & 5 & ⋯ & 1 & 5 & 1 & 5 & 4 & 1 & 5 & 1 & 4 & 4\\\\\n",
       "\t 3 & 5 & 1 & 4 & 5 & 4 & 5 & 1 & 1 & 3 & ⋯ & 4 & 2 & 5 & 2 & 5 & 1 & 1 & 4 & 2 & 3\\\\\n",
       "\t 2 & 1 & 2 & 1 & 3 & 4 & 4 & 1 & 1 & 4 & ⋯ & 3 & 2 & 1 & 2 & 3 & 4 & 1 & 5 & 3 & 5\\\\\n",
       "\t 4 & 4 & 3 & 1 & 3 & 3 & 1 & 5 & 1 & 2 & ⋯ & 1 & 3 & 4 & 4 & 1 & 5 & 4 & 1 & 2 & 2\\\\\n",
       "\t 4 & 4 & 2 & 2 & 5 & 3 & 1 & 4 & 2 & 4 & ⋯ & 3 & 5 & 4 & 4 & 3 & 5 & 1 & 1 & 1 & 2\\\\\n",
       "\t 5 & 4 & 5 & 4 & 2 & 1 & 5 & 5 & 3 & 3 & ⋯ & 2 & 2 & 1 & 4 & 5 & 3 & 4 & 2 & 3 & 3\\\\\n",
       "\\end{tabular}\n"
      ],
      "text/markdown": [
       "\n",
       "CV_1 | CV_2 | CV_3 | CV_4 | CV_5 | CV_6 | CV_7 | CV_8 | CV_9 | CV_10 | ⋯ | CV_91 | CV_92 | CV_93 | CV_94 | CV_95 | CV_96 | CV_97 | CV_98 | CV_99 | CV_100 | \n",
       "|---|---|---|---|---|---|\n",
       "| 5 | 3 | 3 | 2 | 4 | 1 | 1 | 4 | 3 | 5 | ⋯ | 1 | 5 | 1 | 5 | 4 | 1 | 5 | 1 | 4 | 4 | \n",
       "| 3 | 5 | 1 | 4 | 5 | 4 | 5 | 1 | 1 | 3 | ⋯ | 4 | 2 | 5 | 2 | 5 | 1 | 1 | 4 | 2 | 3 | \n",
       "| 2 | 1 | 2 | 1 | 3 | 4 | 4 | 1 | 1 | 4 | ⋯ | 3 | 2 | 1 | 2 | 3 | 4 | 1 | 5 | 3 | 5 | \n",
       "| 4 | 4 | 3 | 1 | 3 | 3 | 1 | 5 | 1 | 2 | ⋯ | 1 | 3 | 4 | 4 | 1 | 5 | 4 | 1 | 2 | 2 | \n",
       "| 4 | 4 | 2 | 2 | 5 | 3 | 1 | 4 | 2 | 4 | ⋯ | 3 | 5 | 4 | 4 | 3 | 5 | 1 | 1 | 1 | 2 | \n",
       "| 5 | 4 | 5 | 4 | 2 | 1 | 5 | 5 | 3 | 3 | ⋯ | 2 | 2 | 1 | 4 | 5 | 3 | 4 | 2 | 3 | 3 | \n",
       "\n",
       "\n"
      ],
      "text/plain": [
       "  CV_1 CV_2 CV_3 CV_4 CV_5 CV_6 CV_7 CV_8 CV_9 CV_10 ⋯ CV_91 CV_92 CV_93 CV_94\n",
       "1 5    3    3    2    4    1    1    4    3    5     ⋯ 1     5     1     5    \n",
       "2 3    5    1    4    5    4    5    1    1    3     ⋯ 4     2     5     2    \n",
       "3 2    1    2    1    3    4    4    1    1    4     ⋯ 3     2     1     2    \n",
       "4 4    4    3    1    3    3    1    5    1    2     ⋯ 1     3     4     4    \n",
       "5 4    4    2    2    5    3    1    4    2    4     ⋯ 3     5     4     4    \n",
       "6 5    4    5    4    2    1    5    5    3    3     ⋯ 2     2     1     4    \n",
       "  CV_95 CV_96 CV_97 CV_98 CV_99 CV_100\n",
       "1 4     1     5     1     4     4     \n",
       "2 5     1     1     4     2     3     \n",
       "3 3     4     1     5     3     5     \n",
       "4 1     5     4     1     2     2     \n",
       "5 3     5     1     1     1     2     \n",
       "6 5     3     4     2     3     3     "
      ]
     },
     "metadata": {},
     "output_type": "display_data"
    }
   ],
   "source": [
    "cvf <- read.csv(\"Data/CVFs_CV1.csv\",header=T)\n",
    "head(cvf)"
   ]
  },
  {
   "cell_type": "code",
   "execution_count": 53,
   "metadata": {},
   "outputs": [
    {
     "data": {
      "image/png": "[encoded data removed]",
      "text/plain": [
       "plot without title"
      ]
     },
     "metadata": {},
     "output_type": "display_data"
    }
   ],
   "source": [
    "\n",
    "Pred_accuracy <- c()\n",
    "Total_predValues <- c()\n",
    "for (j in 5:ncol(Y)) {\n",
    "corr <- c()\n",
    "    PV = c()\n",
    "  for (i in 1:101) {\n",
    "    CV.fold <- paste(\"CV_\",toString(i-1),sep='')\n",
    "    \n",
    "  if (CV.fold == \"CV_0\") {\n",
    "    Pred_values <- c()\n",
    "    corr <- c()\n",
    "    }\n",
    "  else {\n",
    "    cvs <- cvf[,CV.fold]\n",
    "  y <- Y[,j] #get vector of phenotypic values for jth phenotype\n",
    "    colname = colnames(Y[j])\n",
    "      \n",
    "  yhat <- data.frame(cbind( y, yhat = 0))\n",
    "  yhat$yhat <- as.numeric(yhat$yhat)\n",
    "  row.names(yhat) <- row.names(y)\n",
    "  accuracy <- c() \n",
    "  \n",
    "  for(k in 1:5){ \n",
    "    # Make training (TRN) and testing (TST) dfs\n",
    "    tst <- which(cvs == k)\n",
    "    yNA <- y\n",
    "    yNA[tst] <- NA # Mask yields for validation set\n",
    "    df <- data.frame(y=yNA,gid=1:nrow(A)) # Set up dataframe with traits and genotype labels\n",
    "    # Build rrBLUP model and save yhat for the masked values\n",
    "    rrblup <- kin.blup(df,K=A,geno=\"gid\",pheno=\"y\", PEV = TRUE) #optional parameters: fixed effects, gaussian kernel, covariates\n",
    "     yhat$yhat[tst] <- rrblup$pred[tst]\n",
    "  }\n",
    "  accuracy <- cor(yhat$y, yhat$yhat, use = \"complete.obs\")\n",
    "    Pred_values <- cbind(Pred_values,yhat$yhat)\n",
    "      corr <-  rbind(corr, accuracy)\n",
    "  }\n",
    "      PV = cbind(Y$Cluster, Pred_values)\n",
    "}\n",
    "\n",
    "Pred_accuracy[[j-4]] <- corr\n",
    "write.csv(PV,file=paste(\"Predicted_Values\",colname,\"csv\",sep=\".\"), row.names=rowname)\n",
    "\n",
    "}\n",
    "\n",
    "boxplot(Pred_accuracy)\n",
    "\n",
    "       "
   ]
  },
  {
   "cell_type": "markdown",
   "metadata": {},
   "source": [
    "#### Co-variance computation"
   ]
  },
  {
   "cell_type": "code",
   "execution_count": null,
   "metadata": {},
   "outputs": [],
   "source": [
    "##  x represents predicted values and y represents true/phenotypic values"
   ]
  },
  {
   "cell_type": "code",
   "execution_count": 55,
   "metadata": {},
   "outputs": [
    {
     "data": {
      "text/html": [
       "<table>\n",
       "<thead><tr><th scope=col>X</th><th scope=col>V1</th><th scope=col>V2</th><th scope=col>V3</th><th scope=col>V4</th><th scope=col>V5</th><th scope=col>V6</th><th scope=col>V7</th><th scope=col>V8</th><th scope=col>V9</th><th scope=col>⋯</th><th scope=col>V92</th><th scope=col>V93</th><th scope=col>V94</th><th scope=col>V95</th><th scope=col>V96</th><th scope=col>V97</th><th scope=col>V98</th><th scope=col>V99</th><th scope=col>V100</th><th scope=col>V101</th></tr></thead>\n",
       "<tbody>\n",
       "\t<tr><td>PI152651 </td><td>4        </td><td> 69.81539</td><td> 69.67274</td><td>70.44681 </td><td> 77.78094</td><td>69.95168 </td><td> 72.77411</td><td> 67.26445</td><td>67.27861 </td><td>⋯        </td><td> 71.69092</td><td> 69.70264</td><td> 63.77554</td><td> 67.43914</td><td> 67.05121</td><td> 71.68115</td><td>70.10315 </td><td> 71.80624</td><td> 67.75821</td><td> 72.32880</td></tr>\n",
       "\t<tr><td>PI17548  </td><td>2        </td><td>119.61389</td><td>113.61321</td><td>92.81924 </td><td>117.85950</td><td>92.90666 </td><td>117.37790</td><td>109.14519</td><td>92.57142 </td><td>⋯        </td><td>111.91659</td><td>116.68576</td><td>109.48945</td><td>112.92219</td><td>111.07275</td><td>109.12732</td><td>93.44884 </td><td>112.42589</td><td>117.16023</td><td>113.66021</td></tr>\n",
       "\t<tr><td>PI24969  </td><td>3        </td><td> 55.40242</td><td> 60.73185</td><td>59.67593 </td><td> 58.54783</td><td>62.29088 </td><td> 51.66006</td><td> 56.07712</td><td>61.60125 </td><td>⋯        </td><td> 60.65119</td><td> 59.10199</td><td> 58.31968</td><td> 55.61529</td><td> 55.53363</td><td> 59.30905</td><td>61.08806 </td><td> 59.00654</td><td> 64.31867</td><td> 59.04450</td></tr>\n",
       "\t<tr><td>PI329435 </td><td>1        </td><td> 73.54154</td><td> 72.78926</td><td>70.93660 </td><td> 78.97326</td><td>72.61448 </td><td> 76.51552</td><td> 77.97607</td><td>70.17900 </td><td>⋯        </td><td> 70.70698</td><td> 74.18521</td><td> 75.89283</td><td> 71.27292</td><td> 75.52781</td><td> 73.90555</td><td>72.12273 </td><td> 73.31100</td><td> 75.81601</td><td> 77.56486</td></tr>\n",
       "\t<tr><td>PI329440 </td><td>2        </td><td> 78.26475</td><td> 73.75096</td><td>78.28207 </td><td> 76.58485</td><td>74.48967 </td><td> 77.07732</td><td> 77.92547</td><td>77.05874 </td><td>⋯        </td><td> 76.13915</td><td> 78.72790</td><td> 78.40313</td><td> 74.69982</td><td> 77.19669</td><td> 76.81397</td><td>74.37383 </td><td> 71.50486</td><td> 75.09418</td><td> 70.74108</td></tr>\n",
       "\t<tr><td>PI34911  </td><td>4        </td><td> 54.59216</td><td> 63.39166</td><td>65.46454 </td><td> 64.86875</td><td>66.55882 </td><td> 65.13947</td><td> 61.87752</td><td>66.00042 </td><td>⋯        </td><td> 60.90525</td><td> 64.40621</td><td> 68.47235</td><td> 69.64792</td><td> 67.20061</td><td> 59.02793</td><td>68.36646 </td><td> 68.43967</td><td> 58.20483</td><td> 56.57009</td></tr>\n",
       "</tbody>\n",
       "</table>\n"
      ],
      "text/latex": [
       "\\begin{tabular}{r|llllllllllllllllllllllllllllllllllllllllllllllllllllllllllllllllllllllllllllllllllllllllllllllllllllll}\n",
       " X & V1 & V2 & V3 & V4 & V5 & V6 & V7 & V8 & V9 & ⋯ & V92 & V93 & V94 & V95 & V96 & V97 & V98 & V99 & V100 & V101\\\\\n",
       "\\hline\n",
       "\t PI152651  & 4         &  69.81539 &  69.67274 & 70.44681  &  77.78094 & 69.95168  &  72.77411 &  67.26445 & 67.27861  & ⋯         &  71.69092 &  69.70264 &  63.77554 &  67.43914 &  67.05121 &  71.68115 & 70.10315  &  71.80624 &  67.75821 &  72.32880\\\\\n",
       "\t PI17548   & 2         & 119.61389 & 113.61321 & 92.81924  & 117.85950 & 92.90666  & 117.37790 & 109.14519 & 92.57142  & ⋯         & 111.91659 & 116.68576 & 109.48945 & 112.92219 & 111.07275 & 109.12732 & 93.44884  & 112.42589 & 117.16023 & 113.66021\\\\\n",
       "\t PI24969   & 3         &  55.40242 &  60.73185 & 59.67593  &  58.54783 & 62.29088  &  51.66006 &  56.07712 & 61.60125  & ⋯         &  60.65119 &  59.10199 &  58.31968 &  55.61529 &  55.53363 &  59.30905 & 61.08806  &  59.00654 &  64.31867 &  59.04450\\\\\n",
       "\t PI329435  & 1         &  73.54154 &  72.78926 & 70.93660  &  78.97326 & 72.61448  &  76.51552 &  77.97607 & 70.17900  & ⋯         &  70.70698 &  74.18521 &  75.89283 &  71.27292 &  75.52781 &  73.90555 & 72.12273  &  73.31100 &  75.81601 &  77.56486\\\\\n",
       "\t PI329440  & 2         &  78.26475 &  73.75096 & 78.28207  &  76.58485 & 74.48967  &  77.07732 &  77.92547 & 77.05874  & ⋯         &  76.13915 &  78.72790 &  78.40313 &  74.69982 &  77.19669 &  76.81397 & 74.37383  &  71.50486 &  75.09418 &  70.74108\\\\\n",
       "\t PI34911   & 4         &  54.59216 &  63.39166 & 65.46454  &  64.86875 & 66.55882  &  65.13947 &  61.87752 & 66.00042  & ⋯         &  60.90525 &  64.40621 &  68.47235 &  69.64792 &  67.20061 &  59.02793 & 68.36646  &  68.43967 &  58.20483 &  56.57009\\\\\n",
       "\\end{tabular}\n"
      ],
      "text/markdown": [
       "\n",
       "X | V1 | V2 | V3 | V4 | V5 | V6 | V7 | V8 | V9 | ⋯ | V92 | V93 | V94 | V95 | V96 | V97 | V98 | V99 | V100 | V101 | \n",
       "|---|---|---|---|---|---|\n",
       "| PI152651  | 4         |  69.81539 |  69.67274 | 70.44681  |  77.78094 | 69.95168  |  72.77411 |  67.26445 | 67.27861  | ⋯         |  71.69092 |  69.70264 |  63.77554 |  67.43914 |  67.05121 |  71.68115 | 70.10315  |  71.80624 |  67.75821 |  72.32880 | \n",
       "| PI17548   | 2         | 119.61389 | 113.61321 | 92.81924  | 117.85950 | 92.90666  | 117.37790 | 109.14519 | 92.57142  | ⋯         | 111.91659 | 116.68576 | 109.48945 | 112.92219 | 111.07275 | 109.12732 | 93.44884  | 112.42589 | 117.16023 | 113.66021 | \n",
       "| PI24969   | 3         |  55.40242 |  60.73185 | 59.67593  |  58.54783 | 62.29088  |  51.66006 |  56.07712 | 61.60125  | ⋯         |  60.65119 |  59.10199 |  58.31968 |  55.61529 |  55.53363 |  59.30905 | 61.08806  |  59.00654 |  64.31867 |  59.04450 | \n",
       "| PI329435  | 1         |  73.54154 |  72.78926 | 70.93660  |  78.97326 | 72.61448  |  76.51552 |  77.97607 | 70.17900  | ⋯         |  70.70698 |  74.18521 |  75.89283 |  71.27292 |  75.52781 |  73.90555 | 72.12273  |  73.31100 |  75.81601 |  77.56486 | \n",
       "| PI329440  | 2         |  78.26475 |  73.75096 | 78.28207  |  76.58485 | 74.48967  |  77.07732 |  77.92547 | 77.05874  | ⋯         |  76.13915 |  78.72790 |  78.40313 |  74.69982 |  77.19669 |  76.81397 | 74.37383  |  71.50486 |  75.09418 |  70.74108 | \n",
       "| PI34911   | 4         |  54.59216 |  63.39166 | 65.46454  |  64.86875 | 66.55882  |  65.13947 |  61.87752 | 66.00042  | ⋯         |  60.90525 |  64.40621 |  68.47235 |  69.64792 |  67.20061 |  59.02793 | 68.36646  |  68.43967 |  58.20483 |  56.57009 | \n",
       "\n",
       "\n"
      ],
      "text/plain": [
       "  X        V1 V2        V3        V4       V5        V6       V7       \n",
       "1 PI152651 4   69.81539  69.67274 70.44681  77.78094 69.95168  72.77411\n",
       "2 PI17548  2  119.61389 113.61321 92.81924 117.85950 92.90666 117.37790\n",
       "3 PI24969  3   55.40242  60.73185 59.67593  58.54783 62.29088  51.66006\n",
       "4 PI329435 1   73.54154  72.78926 70.93660  78.97326 72.61448  76.51552\n",
       "5 PI329440 2   78.26475  73.75096 78.28207  76.58485 74.48967  77.07732\n",
       "6 PI34911  4   54.59216  63.39166 65.46454  64.86875 66.55882  65.13947\n",
       "  V8        V9       ⋯ V92       V93       V94       V95       V96      \n",
       "1  67.26445 67.27861 ⋯  71.69092  69.70264  63.77554  67.43914  67.05121\n",
       "2 109.14519 92.57142 ⋯ 111.91659 116.68576 109.48945 112.92219 111.07275\n",
       "3  56.07712 61.60125 ⋯  60.65119  59.10199  58.31968  55.61529  55.53363\n",
       "4  77.97607 70.17900 ⋯  70.70698  74.18521  75.89283  71.27292  75.52781\n",
       "5  77.92547 77.05874 ⋯  76.13915  78.72790  78.40313  74.69982  77.19669\n",
       "6  61.87752 66.00042 ⋯  60.90525  64.40621  68.47235  69.64792  67.20061\n",
       "  V97       V98      V99       V100      V101     \n",
       "1  71.68115 70.10315  71.80624  67.75821  72.32880\n",
       "2 109.12732 93.44884 112.42589 117.16023 113.66021\n",
       "3  59.30905 61.08806  59.00654  64.31867  59.04450\n",
       "4  73.90555 72.12273  73.31100  75.81601  77.56486\n",
       "5  76.81397 74.37383  71.50486  75.09418  70.74108\n",
       "6  59.02793 68.36646  68.43967  58.20483  56.57009"
      ]
     },
     "metadata": {},
     "output_type": "display_data"
    }
   ],
   "source": [
    "BL = read.csv(\"CV1_predictedValues/Predicted_Values.BL.csv\", header=T)\n",
    "head(BL)"
   ]
  },
  {
   "cell_type": "code",
   "execution_count": 88,
   "metadata": {},
   "outputs": [
    {
     "name": "stdout",
     "output_type": "stream",
     "text": [
      "[1] \"Mean of Total Covariance\"\n"
     ]
    },
    {
     "data": {
      "text/html": [
       "378.678914172224"
      ],
      "text/latex": [
       "378.678914172224"
      ],
      "text/markdown": [
       "378.678914172224"
      ],
      "text/plain": [
       "[1] 378.6789"
      ]
     },
     "metadata": {},
     "output_type": "display_data"
    },
    {
     "name": "stdout",
     "output_type": "stream",
     "text": [
      "[1] \"Mean of Covariance within race\"\n"
     ]
    },
    {
     "data": {
      "text/html": [
       "188.285472670411"
      ],
      "text/latex": [
       "188.285472670411"
      ],
      "text/markdown": [
       "188.285472670411"
      ],
      "text/plain": [
       "[1] 188.2855"
      ]
     },
     "metadata": {},
     "output_type": "display_data"
    },
    {
     "name": "stdout",
     "output_type": "stream",
     "text": [
      "[1] \"Mean of Expectation due to across race Covariance\"\n"
     ]
    },
    {
     "data": {
      "text/html": [
       "190.393441501813"
      ],
      "text/latex": [
       "190.393441501813"
      ],
      "text/markdown": [
       "190.393441501813"
      ],
      "text/plain": [
       "[1] 190.3934"
      ]
     },
     "metadata": {},
     "output_type": "display_data"
    },
    {
     "name": "stdout",
     "output_type": "stream",
     "text": [
      "[1] \"Mean prediction accuracy\"\n"
     ]
    },
    {
     "data": {
      "text/html": [
       "0.674331183481528"
      ],
      "text/latex": [
       "0.674331183481528"
      ],
      "text/markdown": [
       "0.674331183481528"
      ],
      "text/plain": [
       "[1] 0.6743312"
      ]
     },
     "metadata": {},
     "output_type": "display_data"
    },
    {
     "name": "stdout",
     "output_type": "stream",
     "text": [
      "[1] \"Mean prediction accuracy due to Within race component\"\n"
     ]
    },
    {
     "data": {
      "text/html": [
       "0.485728900833444"
      ],
      "text/latex": [
       "0.485728900833444"
      ],
      "text/markdown": [
       "0.485728900833444"
      ],
      "text/plain": [
       "[1] 0.4857289"
      ]
     },
     "metadata": {},
     "output_type": "display_data"
    }
   ],
   "source": [
    "Y1 = Y[Y$Cluster == 1,]\n",
    "BL_mixed = BL[BL$V1==1,] ##subset  predicted values by race cluster\n",
    "\n",
    "for (i in 1:101) {\n",
    "    CV.fold <- paste(\"V\",toString(i),sep='')\n",
    "     y = Y$BL\n",
    "    \n",
    "  if (CV.fold == \"V1\") {\n",
    "    Cov_mixed <- c()\n",
    "    Cov_total <- c()\n",
    "    E_race <- c()\n",
    "      var_x = c()\n",
    "      var_x1 = c()\n",
    "      var_y = var(y, use = \"complete.obs\")\n",
    "      var_y1 = var(y1, use = \"complete.obs\")\n",
    "      Corr_CV1 = c()\n",
    "      Corr_WR = c()\n",
    "      \n",
    "    }\n",
    "  else {\n",
    "      x = BL[,CV.fold]\n",
    "     \n",
    "      x1 = BL_mixed[,CV.fold]\n",
    "      y1 = Y1$BL\n",
    "    Cov_total[[i]] <- cov(x,y, use = \"complete.obs\") ##total covariances between prediction and true values across all individuals\n",
    "    Cov_mixed[[i]] <- cov(x1,y1, use = \"complete.obs\") ## covariances for prediction and true values within a specified race\n",
    "    \n",
    "      E_race[[i]] <- Cov_total[[i]] - Cov_mixed[[i]] ## Expectation derived for Cov_total = E_race + Cov_race\n",
    "      \n",
    "      var_x[[i]] = var(x, use = \"complete.obs\") ##total variance in predicted values\n",
    "      var_x1[[i]] = var(x1, use = \"complete.obs\") ## variance for specific race in predicted values\n",
    "      Corr_CV1[[i]] = Cov_total[[i]]/sqrt(var_x[[i]]*var_y) ##correlation as a function of covariance/sqrt(variances)\n",
    "      Corr_WR[[i]] = Cov_mixed[[i]]/sqrt(var_x1[[i]]*var_y1)\n",
    "      }\n",
    "    \n",
    "    }\n",
    "print(\"Mean of Total Covariance\")\n",
    "    mean(Cov_total, na.rm=T)\n",
    "print(\"Mean of Covariance within race\")\n",
    "    mean(Cov_mixed, na.rm=T)\n",
    "print(\"Mean of Expectation due to across race Covariance\")\n",
    "    mean(E_race,na.rm=T)\n",
    "print(\"Mean prediction accuracy\")\n",
    "    mean(Corr_CV1, na.rm=T)\n",
    "print(\"Mean prediction accuracy due to Within race component\")\n",
    "    mean(Corr_WR, na.rm=T)\n"
   ]
  },
  {
   "cell_type": "code",
   "execution_count": 79,
   "metadata": {},
   "outputs": [
    {
     "data": {
      "text/html": [
       "0.669724257466196"
      ],
      "text/latex": [
       "0.669724257466196"
      ],
      "text/markdown": [
       "0.669724257466196"
      ],
      "text/plain": [
       "[1] 0.6697243"
      ]
     },
     "metadata": {},
     "output_type": "display_data"
    }
   ],
   "source": []
  },
  {
   "cell_type": "code",
   "execution_count": null,
   "metadata": {},
   "outputs": [],
   "source": []
  }
 ],
 "metadata": {
  "kernelspec": {
   "display_name": "R",
   "language": "R",
   "name": "ir"
  },
  "language_info": {
   "codemirror_mode": "r",
   "file_extension": ".r",
   "mimetype": "text/x-r-source",
   "name": "R",
   "pygments_lexer": "r",
   "version": "3.5.1"
  }
 },
 "nbformat": 4,
 "nbformat_minor": 2
}
