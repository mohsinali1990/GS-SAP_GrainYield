{
 "cells": [
  {
   "cell_type": "markdown",
   "metadata": {},
   "source": [
    "### Use mmer to get variance components due to random effect of race for predictions\n",
    "1. Get predicted values for each phenotype\n",
    "2. Fit multi-response/multi-variate model with predicted values(x) and observed values(y) and use race as random effects and residuals for race and individuals."
   ]
  },
  {
   "cell_type": "code",
   "execution_count": 1,
   "metadata": {},
   "outputs": [],
   "source": [
    ".libPaths(c('/Users/ssapkot/Documents/Experiments/MyRlibs',.libPaths()))\n",
    "\n",
    "setwd(\"/Users/ssapkot/Documents/Experiments/SAP_GS_PopStr/CV1_predictedValues/\")\n"
   ]
  },
  {
   "cell_type": "markdown",
   "metadata": {},
   "source": [
    "## Mean of covariances"
   ]
  },
  {
   "cell_type": "code",
   "execution_count": 9,
   "metadata": {},
   "outputs": [
    {
     "data": {
      "text/html": [
       "<table>\n",
       "<thead><tr><th></th><th scope=col>DTA</th><th scope=col>PH</th><th scope=col>GN</th><th scope=col>GW</th><th scope=col>GY</th><th scope=col>FLH</th><th scope=col>PL</th><th scope=col>BL</th></tr></thead>\n",
       "<tbody>\n",
       "\t<tr><th scope=row>u:race.y-y</th><td>14.006681 </td><td> 486.2924 </td><td> 31086.920</td><td> 5.435960 </td><td> 33.805302</td><td> 337.59092</td><td> 5.387864 </td><td>160.40176 </td></tr>\n",
       "\t<tr><th scope=row>u:race.y-x</th><td> 4.308120 </td><td> 179.4700 </td><td>  9351.179</td><td> 2.014546 </td><td> 11.426748</td><td> 113.37081</td><td> 1.958287 </td><td> 63.62543 </td></tr>\n",
       "\t<tr><th scope=row>u:race.x-x</th><td> 2.982092 </td><td> 149.1114 </td><td>  6330.253</td><td> 1.680057 </td><td>  8.691486</td><td>  85.72497</td><td> 1.602123 </td><td> 56.95535 </td></tr>\n",
       "\t<tr><th scope=row>u:units.y-y</th><td>64.057305 </td><td>2327.2447 </td><td>161417.096</td><td>28.922913 </td><td>174.546000</td><td>1550.20620</td><td>28.604060 </td><td>841.17941 </td></tr>\n",
       "\t<tr><th scope=row>u:units.y-x</th><td>10.628285 </td><td> 789.4467 </td><td> 20848.349</td><td> 9.863371 </td><td> 29.357704</td><td> 442.24438</td><td> 6.394052 </td><td>279.81320 </td></tr>\n",
       "\t<tr><th scope=row>u:units.x-x</th><td>10.228423 </td><td> 699.6811 </td><td> 17882.008</td><td> 7.735143 </td><td> 26.478788</td><td> 383.31088</td><td> 5.420520 </td><td>243.56068 </td></tr>\n",
       "</tbody>\n",
       "</table>\n"
      ],
      "text/latex": [
       "\\begin{tabular}{r|llllllll}\n",
       "  & DTA & PH & GN & GW & GY & FLH & PL & BL\\\\\n",
       "\\hline\n",
       "\tu:race.y-y & 14.006681  &  486.2924  &  31086.920 &  5.435960  &  33.805302 &  337.59092 &  5.387864  & 160.40176 \\\\\n",
       "\tu:race.y-x &  4.308120  &  179.4700  &   9351.179 &  2.014546  &  11.426748 &  113.37081 &  1.958287  &  63.62543 \\\\\n",
       "\tu:race.x-x &  2.982092  &  149.1114  &   6330.253 &  1.680057  &   8.691486 &   85.72497 &  1.602123  &  56.95535 \\\\\n",
       "\tu:units.y-y & 64.057305  & 2327.2447  & 161417.096 & 28.922913  & 174.546000 & 1550.20620 & 28.604060  & 841.17941 \\\\\n",
       "\tu:units.y-x & 10.628285  &  789.4467  &  20848.349 &  9.863371  &  29.357704 &  442.24438 &  6.394052  & 279.81320 \\\\\n",
       "\tu:units.x-x & 10.228423  &  699.6811  &  17882.008 &  7.735143  &  26.478788 &  383.31088 &  5.420520  & 243.56068 \\\\\n",
       "\\end{tabular}\n"
      ],
      "text/markdown": [
       "\n",
       "| <!--/--> | DTA | PH | GN | GW | GY | FLH | PL | BL | \n",
       "|---|---|---|---|---|---|\n",
       "| u:race.y-y | 14.006681  |  486.2924  |  31086.920 |  5.435960  |  33.805302 |  337.59092 |  5.387864  | 160.40176  | \n",
       "| u:race.y-x |  4.308120  |  179.4700  |   9351.179 |  2.014546  |  11.426748 |  113.37081 |  1.958287  |  63.62543  | \n",
       "| u:race.x-x |  2.982092  |  149.1114  |   6330.253 |  1.680057  |   8.691486 |   85.72497 |  1.602123  |  56.95535  | \n",
       "| u:units.y-y | 64.057305  | 2327.2447  | 161417.096 | 28.922913  | 174.546000 | 1550.20620 | 28.604060  | 841.17941  | \n",
       "| u:units.y-x | 10.628285  |  789.4467  |  20848.349 |  9.863371  |  29.357704 |  442.24438 |  6.394052  | 279.81320  | \n",
       "| u:units.x-x | 10.228423  |  699.6811  |  17882.008 |  7.735143  |  26.478788 |  383.31088 |  5.420520  | 243.56068  | \n",
       "\n",
       "\n"
      ],
      "text/plain": [
       "            DTA       PH        GN         GW        GY         FLH       \n",
       "u:race.y-y  14.006681  486.2924  31086.920  5.435960  33.805302  337.59092\n",
       "u:race.y-x   4.308120  179.4700   9351.179  2.014546  11.426748  113.37081\n",
       "u:race.x-x   2.982092  149.1114   6330.253  1.680057   8.691486   85.72497\n",
       "u:units.y-y 64.057305 2327.2447 161417.096 28.922913 174.546000 1550.20620\n",
       "u:units.y-x 10.628285  789.4467  20848.349  9.863371  29.357704  442.24438\n",
       "u:units.x-x 10.228423  699.6811  17882.008  7.735143  26.478788  383.31088\n",
       "            PL        BL       \n",
       "u:race.y-y   5.387864 160.40176\n",
       "u:race.y-x   1.958287  63.62543\n",
       "u:race.x-x   1.602123  56.95535\n",
       "u:units.y-y 28.604060 841.17941\n",
       "u:units.y-x  6.394052 279.81320\n",
       "u:units.x-x  5.420520 243.56068"
      ]
     },
     "metadata": {},
     "output_type": "display_data"
    },
    {
     "data": {
      "text/html": [
       "<ol class=list-inline>\n",
       "\t<li>'DTA'</li>\n",
       "\t<li>'PH'</li>\n",
       "\t<li>'GN'</li>\n",
       "\t<li>'GW'</li>\n",
       "\t<li>'GY'</li>\n",
       "\t<li>'FLH'</li>\n",
       "\t<li>'PL'</li>\n",
       "\t<li>'BL'</li>\n",
       "</ol>\n"
      ],
      "text/latex": [
       "\\begin{enumerate*}\n",
       "\\item 'DTA'\n",
       "\\item 'PH'\n",
       "\\item 'GN'\n",
       "\\item 'GW'\n",
       "\\item 'GY'\n",
       "\\item 'FLH'\n",
       "\\item 'PL'\n",
       "\\item 'BL'\n",
       "\\end{enumerate*}\n"
      ],
      "text/markdown": [
       "1. 'DTA'\n",
       "2. 'PH'\n",
       "3. 'GN'\n",
       "4. 'GW'\n",
       "5. 'GY'\n",
       "6. 'FLH'\n",
       "7. 'PL'\n",
       "8. 'BL'\n",
       "\n",
       "\n"
      ],
      "text/plain": [
       "[1] \"DTA\" \"PH\"  \"GN\"  \"GW\"  \"GY\"  \"FLH\" \"PL\"  \"BL\" "
      ]
     },
     "metadata": {},
     "output_type": "display_data"
    }
   ],
   "source": [
    "\n",
    "trait = c(\"DTA\",\"PH\",\"GN\",\"GW\",\"GY\",\"FLH\",\"PL\",\"BL\")\n",
    "\n",
    "Mean_vcov <- c()\n",
    "for (i in 1:8){\n",
    "    mean <- c()\n",
    "    file = paste(\"VCOV_CV1_races/2_\",trait[i],\"_vCov_unscaled.csv\",sep=\"\")\n",
    "    vcov = read.csv(file=file, row.names=1,header=T)\n",
    "    \n",
    "    mean = rowMeans(vcov)\n",
    "    \n",
    "    Mean_vcov = cbind(Mean_vcov,mean)\n",
    "    \n",
    "    }\n",
    "colnames(Mean_vcov) <- trait\n",
    "\n",
    "write.csv(Mean_vcov,\"VCOV_CV1_races/Means_vCov_Sommer_unscaled.csv\")\n",
    "\n",
    "Mean_vcov\n",
    "trait\n"
   ]
  },
  {
   "cell_type": "code",
   "execution_count": 36,
   "metadata": {},
   "outputs": [
    {
     "data": {
      "text/html": [
       "<table>\n",
       "<thead><tr><th></th><th scope=col>VarComp</th><th scope=col>VarComp.1</th><th scope=col>VarComp.2</th><th scope=col>VarComp.3</th><th scope=col>VarComp.4</th><th scope=col>VarComp.5</th><th scope=col>VarComp.6</th><th scope=col>VarComp.7</th><th scope=col>VarComp.8</th><th scope=col>VarComp.9</th><th scope=col>⋯</th><th scope=col>VarComp.90</th><th scope=col>VarComp.91</th><th scope=col>VarComp.92</th><th scope=col>VarComp.93</th><th scope=col>VarComp.94</th><th scope=col>VarComp.95</th><th scope=col>VarComp.96</th><th scope=col>VarComp.97</th><th scope=col>VarComp.98</th><th scope=col>VarComp.99</th></tr></thead>\n",
       "<tbody>\n",
       "\t<tr><th scope=row>u:race.y-y</th><td>0.13900871</td><td>0.13476692</td><td>0.13325014</td><td>0.13771062</td><td>0.14011861</td><td>0.14142110</td><td>0.14291621</td><td>0.1405882 </td><td>0.13611337</td><td>0.13759538</td><td>⋯         </td><td>0.1567194 </td><td>0.13830422</td><td>0.1601485 </td><td>0.13373389</td><td>0.13821235</td><td>0.14155319</td><td>0.13757374</td><td>0.13762705</td><td>0.13418646</td><td>0.13843789</td></tr>\n",
       "\t<tr><th scope=row>u:race.y-x</th><td>0.09295129</td><td>0.09014825</td><td>0.08893879</td><td>0.09216036</td><td>0.09368139</td><td>0.09451496</td><td>0.09536793</td><td>0.0939653 </td><td>0.09124845</td><td>0.09211822</td><td>⋯         </td><td>0.1036123 </td><td>0.09245854</td><td>0.1064494 </td><td>0.08949535</td><td>0.09225931</td><td>0.09442292</td><td>0.09188053</td><td>0.09215688</td><td>0.08982326</td><td>0.09261762</td></tr>\n",
       "\t<tr><th scope=row>u:race.x-x</th><td>0.13984641</td><td>0.13567936</td><td>0.13356642</td><td>0.13877251</td><td>0.14092672</td><td>0.14212466</td><td>0.14318770</td><td>0.1413086 </td><td>0.13763621</td><td>0.13876175</td><td>⋯         </td><td>0.1541283 </td><td>0.13907246</td><td>0.1592012 </td><td>0.13475408</td><td>0.13856581</td><td>0.14171563</td><td>0.13806829</td><td>0.13884626</td><td>0.13528557</td><td>0.13941670</td></tr>\n",
       "\t<tr><th scope=row>1:units.y-y</th><td>0.94528315</td><td>0.94527050</td><td>0.94528305</td><td>0.94528308</td><td>0.94527183</td><td>0.94527224</td><td>0.94527204</td><td>0.9452721 </td><td>0.94528310</td><td>0.94528310</td><td>⋯         </td><td>0.9452743 </td><td>0.94528313</td><td>0.9452755 </td><td>0.94528311</td><td>0.94527131</td><td>0.94527148</td><td>0.94527052</td><td>0.94528313</td><td>0.94528313</td><td>0.94528310</td></tr>\n",
       "\t<tr><th scope=row>1:units.y-x</th><td>0.31044025</td><td>0.33155697</td><td>0.34985821</td><td>0.29164981</td><td>0.35637433</td><td>0.38385935</td><td>0.30021439</td><td>0.3569178 </td><td>0.33900121</td><td>0.32645827</td><td>⋯         </td><td>0.3541447 </td><td>0.31963719</td><td>0.3597534 </td><td>0.34308369</td><td>0.34583669</td><td>0.37482793</td><td>0.35745371</td><td>0.30003516</td><td>0.33245237</td><td>0.32699725</td></tr>\n",
       "\t<tr><th scope=row>1:units.x-x</th><td>0.48705839</td><td>0.43107657</td><td>0.49946272</td><td>0.53029134</td><td>0.57120947</td><td>0.61204608</td><td>0.52286837</td><td>0.5340520 </td><td>0.50372053</td><td>0.52133637</td><td>⋯         </td><td>0.7673947 </td><td>0.48322035</td><td>0.7147203 </td><td>0.49385493</td><td>0.52164565</td><td>0.62089302</td><td>0.50191303</td><td>0.47294099</td><td>0.49056865</td><td>0.51237179</td></tr>\n",
       "</tbody>\n",
       "</table>\n"
      ],
      "text/latex": [
       "\\begin{tabular}{r|llllllllllllllllllllllllllllllllllllllllllllllllllllllllllllllllllllllllllllllllllllllllllllllllllll}\n",
       "  & VarComp & VarComp.1 & VarComp.2 & VarComp.3 & VarComp.4 & VarComp.5 & VarComp.6 & VarComp.7 & VarComp.8 & VarComp.9 & ⋯ & VarComp.90 & VarComp.91 & VarComp.92 & VarComp.93 & VarComp.94 & VarComp.95 & VarComp.96 & VarComp.97 & VarComp.98 & VarComp.99\\\\\n",
       "\\hline\n",
       "\tu:race.y-y & 0.13900871 & 0.13476692 & 0.13325014 & 0.13771062 & 0.14011861 & 0.14142110 & 0.14291621 & 0.1405882  & 0.13611337 & 0.13759538 & ⋯          & 0.1567194  & 0.13830422 & 0.1601485  & 0.13373389 & 0.13821235 & 0.14155319 & 0.13757374 & 0.13762705 & 0.13418646 & 0.13843789\\\\\n",
       "\tu:race.y-x & 0.09295129 & 0.09014825 & 0.08893879 & 0.09216036 & 0.09368139 & 0.09451496 & 0.09536793 & 0.0939653  & 0.09124845 & 0.09211822 & ⋯          & 0.1036123  & 0.09245854 & 0.1064494  & 0.08949535 & 0.09225931 & 0.09442292 & 0.09188053 & 0.09215688 & 0.08982326 & 0.09261762\\\\\n",
       "\tu:race.x-x & 0.13984641 & 0.13567936 & 0.13356642 & 0.13877251 & 0.14092672 & 0.14212466 & 0.14318770 & 0.1413086  & 0.13763621 & 0.13876175 & ⋯          & 0.1541283  & 0.13907246 & 0.1592012  & 0.13475408 & 0.13856581 & 0.14171563 & 0.13806829 & 0.13884626 & 0.13528557 & 0.13941670\\\\\n",
       "\t1:units.y-y & 0.94528315 & 0.94527050 & 0.94528305 & 0.94528308 & 0.94527183 & 0.94527224 & 0.94527204 & 0.9452721  & 0.94528310 & 0.94528310 & ⋯          & 0.9452743  & 0.94528313 & 0.9452755  & 0.94528311 & 0.94527131 & 0.94527148 & 0.94527052 & 0.94528313 & 0.94528313 & 0.94528310\\\\\n",
       "\t1:units.y-x & 0.31044025 & 0.33155697 & 0.34985821 & 0.29164981 & 0.35637433 & 0.38385935 & 0.30021439 & 0.3569178  & 0.33900121 & 0.32645827 & ⋯          & 0.3541447  & 0.31963719 & 0.3597534  & 0.34308369 & 0.34583669 & 0.37482793 & 0.35745371 & 0.30003516 & 0.33245237 & 0.32699725\\\\\n",
       "\t1:units.x-x & 0.48705839 & 0.43107657 & 0.49946272 & 0.53029134 & 0.57120947 & 0.61204608 & 0.52286837 & 0.5340520  & 0.50372053 & 0.52133637 & ⋯          & 0.7673947  & 0.48322035 & 0.7147203  & 0.49385493 & 0.52164565 & 0.62089302 & 0.50191303 & 0.47294099 & 0.49056865 & 0.51237179\\\\\n",
       "\\end{tabular}\n"
      ],
      "text/markdown": [
       "\n",
       "| <!--/--> | VarComp | VarComp.1 | VarComp.2 | VarComp.3 | VarComp.4 | VarComp.5 | VarComp.6 | VarComp.7 | VarComp.8 | VarComp.9 | ⋯ | VarComp.90 | VarComp.91 | VarComp.92 | VarComp.93 | VarComp.94 | VarComp.95 | VarComp.96 | VarComp.97 | VarComp.98 | VarComp.99 | \n",
       "|---|---|---|---|---|---|\n",
       "| u:race.y-y | 0.13900871 | 0.13476692 | 0.13325014 | 0.13771062 | 0.14011861 | 0.14142110 | 0.14291621 | 0.1405882  | 0.13611337 | 0.13759538 | ⋯          | 0.1567194  | 0.13830422 | 0.1601485  | 0.13373389 | 0.13821235 | 0.14155319 | 0.13757374 | 0.13762705 | 0.13418646 | 0.13843789 | \n",
       "| u:race.y-x | 0.09295129 | 0.09014825 | 0.08893879 | 0.09216036 | 0.09368139 | 0.09451496 | 0.09536793 | 0.0939653  | 0.09124845 | 0.09211822 | ⋯          | 0.1036123  | 0.09245854 | 0.1064494  | 0.08949535 | 0.09225931 | 0.09442292 | 0.09188053 | 0.09215688 | 0.08982326 | 0.09261762 | \n",
       "| u:race.x-x | 0.13984641 | 0.13567936 | 0.13356642 | 0.13877251 | 0.14092672 | 0.14212466 | 0.14318770 | 0.1413086  | 0.13763621 | 0.13876175 | ⋯          | 0.1541283  | 0.13907246 | 0.1592012  | 0.13475408 | 0.13856581 | 0.14171563 | 0.13806829 | 0.13884626 | 0.13528557 | 0.13941670 | \n",
       "| 1:units.y-y | 0.94528315 | 0.94527050 | 0.94528305 | 0.94528308 | 0.94527183 | 0.94527224 | 0.94527204 | 0.9452721  | 0.94528310 | 0.94528310 | ⋯          | 0.9452743  | 0.94528313 | 0.9452755  | 0.94528311 | 0.94527131 | 0.94527148 | 0.94527052 | 0.94528313 | 0.94528313 | 0.94528310 | \n",
       "| 1:units.y-x | 0.31044025 | 0.33155697 | 0.34985821 | 0.29164981 | 0.35637433 | 0.38385935 | 0.30021439 | 0.3569178  | 0.33900121 | 0.32645827 | ⋯          | 0.3541447  | 0.31963719 | 0.3597534  | 0.34308369 | 0.34583669 | 0.37482793 | 0.35745371 | 0.30003516 | 0.33245237 | 0.32699725 | \n",
       "| 1:units.x-x | 0.48705839 | 0.43107657 | 0.49946272 | 0.53029134 | 0.57120947 | 0.61204608 | 0.52286837 | 0.5340520  | 0.50372053 | 0.52133637 | ⋯          | 0.7673947  | 0.48322035 | 0.7147203  | 0.49385493 | 0.52164565 | 0.62089302 | 0.50191303 | 0.47294099 | 0.49056865 | 0.51237179 | \n",
       "\n",
       "\n"
      ],
      "text/plain": [
       "            VarComp    VarComp.1  VarComp.2  VarComp.3  VarComp.4  VarComp.5 \n",
       "u:race.y-y  0.13900871 0.13476692 0.13325014 0.13771062 0.14011861 0.14142110\n",
       "u:race.y-x  0.09295129 0.09014825 0.08893879 0.09216036 0.09368139 0.09451496\n",
       "u:race.x-x  0.13984641 0.13567936 0.13356642 0.13877251 0.14092672 0.14212466\n",
       "1:units.y-y 0.94528315 0.94527050 0.94528305 0.94528308 0.94527183 0.94527224\n",
       "1:units.y-x 0.31044025 0.33155697 0.34985821 0.29164981 0.35637433 0.38385935\n",
       "1:units.x-x 0.48705839 0.43107657 0.49946272 0.53029134 0.57120947 0.61204608\n",
       "            VarComp.6  VarComp.7 VarComp.8  VarComp.9  ⋯ VarComp.90 VarComp.91\n",
       "u:race.y-y  0.14291621 0.1405882 0.13611337 0.13759538 ⋯ 0.1567194  0.13830422\n",
       "u:race.y-x  0.09536793 0.0939653 0.09124845 0.09211822 ⋯ 0.1036123  0.09245854\n",
       "u:race.x-x  0.14318770 0.1413086 0.13763621 0.13876175 ⋯ 0.1541283  0.13907246\n",
       "1:units.y-y 0.94527204 0.9452721 0.94528310 0.94528310 ⋯ 0.9452743  0.94528313\n",
       "1:units.y-x 0.30021439 0.3569178 0.33900121 0.32645827 ⋯ 0.3541447  0.31963719\n",
       "1:units.x-x 0.52286837 0.5340520 0.50372053 0.52133637 ⋯ 0.7673947  0.48322035\n",
       "            VarComp.92 VarComp.93 VarComp.94 VarComp.95 VarComp.96 VarComp.97\n",
       "u:race.y-y  0.1601485  0.13373389 0.13821235 0.14155319 0.13757374 0.13762705\n",
       "u:race.y-x  0.1064494  0.08949535 0.09225931 0.09442292 0.09188053 0.09215688\n",
       "u:race.x-x  0.1592012  0.13475408 0.13856581 0.14171563 0.13806829 0.13884626\n",
       "1:units.y-y 0.9452755  0.94528311 0.94527131 0.94527148 0.94527052 0.94528313\n",
       "1:units.y-x 0.3597534  0.34308369 0.34583669 0.37482793 0.35745371 0.30003516\n",
       "1:units.x-x 0.7147203  0.49385493 0.52164565 0.62089302 0.50191303 0.47294099\n",
       "            VarComp.98 VarComp.99\n",
       "u:race.y-y  0.13418646 0.13843789\n",
       "u:race.y-x  0.08982326 0.09261762\n",
       "u:race.x-x  0.13528557 0.13941670\n",
       "1:units.y-y 0.94528313 0.94528310\n",
       "1:units.y-x 0.33245237 0.32699725\n",
       "1:units.x-x 0.49056865 0.51237179"
      ]
     },
     "metadata": {},
     "output_type": "display_data"
    },
    {
     "name": "stdout",
     "output_type": "stream",
     "text": [
      "[1] \"Total Columns\"\n"
     ]
    },
    {
     "data": {
      "text/html": [
       "100"
      ],
      "text/latex": [
       "100"
      ],
      "text/markdown": [
       "100"
      ],
      "text/plain": [
       "[1] 100"
      ]
     },
     "metadata": {},
     "output_type": "display_data"
    },
    {
     "name": "stdout",
     "output_type": "stream",
     "text": [
      "[1] \"----------\"\n"
     ]
    },
    {
     "data": {
      "text/html": [
       "<table>\n",
       "<thead><tr><th></th><th scope=col>DTA</th><th scope=col>PH</th><th scope=col>GN</th><th scope=col>GW</th><th scope=col>GY</th><th scope=col>PL</th><th scope=col>FLH</th><th scope=col></th></tr></thead>\n",
       "<tbody>\n",
       "\t<tr><th scope=row>u:Race</th><td>0.66666667 </td><td>0.6666667  </td><td>0.6666667  </td><td>0.6666667  </td><td>0.6666667  </td><td>0.66666667 </td><td> 0.66666667</td><td>0.6666667  </td></tr>\n",
       "\t<tr><th scope=row>Mixed</th><td>0.34265809 </td><td>0.5992564  </td><td>0.4974343  </td><td>0.6055183  </td><td>0.4549450  </td><td>0.40673698 </td><td> 0.61325120</td><td>0.4805551  </td></tr>\n",
       "\t<tr><th scope=row>Kafir</th><td>0.17551742 </td><td>0.5985250  </td><td>0.2888541  </td><td>0.6829384  </td><td>0.4469761  </td><td>0.02163243 </td><td> 0.54544541</td><td>0.3081162  </td></tr>\n",
       "\t<tr><th scope=row>Durra</th><td>0.38754418 </td><td>0.6464692  </td><td>0.3409007  </td><td>0.7085919  </td><td>0.4473687  </td><td>0.75462814 </td><td> 0.68093417</td><td>0.8021306  </td></tr>\n",
       "\t<tr><th scope=row>Caudatum</th><td>0.58459914 </td><td>0.6423760  </td><td>0.3955352  </td><td>0.5905080  </td><td>0.3513162  </td><td>0.32709536 </td><td> 0.55792886</td><td>0.2511518  </td></tr>\n",
       "\t<tr><th scope=row>Guinea</th><td>0.03733226 </td><td>0.5888372  </td><td>0.3739040  </td><td>0.7652410  </td><td>0.5615285  </td><td>0.46583923 </td><td>-0.02438477</td><td>0.4742476  </td></tr>\n",
       "</tbody>\n",
       "</table>\n"
      ],
      "text/latex": [
       "\\begin{tabular}{r|llllllll}\n",
       "  & DTA & PH & GN & GW & GY & PL & FLH & \\\\\n",
       "\\hline\n",
       "\tu:Race & 0.66666667  & 0.6666667   & 0.6666667   & 0.6666667   & 0.6666667   & 0.66666667  &  0.66666667 & 0.6666667  \\\\\n",
       "\tMixed & 0.34265809  & 0.5992564   & 0.4974343   & 0.6055183   & 0.4549450   & 0.40673698  &  0.61325120 & 0.4805551  \\\\\n",
       "\tKafir & 0.17551742  & 0.5985250   & 0.2888541   & 0.6829384   & 0.4469761   & 0.02163243  &  0.54544541 & 0.3081162  \\\\\n",
       "\tDurra & 0.38754418  & 0.6464692   & 0.3409007   & 0.7085919   & 0.4473687   & 0.75462814  &  0.68093417 & 0.8021306  \\\\\n",
       "\tCaudatum & 0.58459914  & 0.6423760   & 0.3955352   & 0.5905080   & 0.3513162   & 0.32709536  &  0.55792886 & 0.2511518  \\\\\n",
       "\tGuinea & 0.03733226  & 0.5888372   & 0.3739040   & 0.7652410   & 0.5615285   & 0.46583923  & -0.02438477 & 0.4742476  \\\\\n",
       "\\end{tabular}\n"
      ],
      "text/markdown": [
       "\n",
       "| <!--/--> | DTA | PH | GN | GW | GY | PL | FLH |  | \n",
       "|---|---|---|---|---|---|\n",
       "| u:Race | 0.66666667  | 0.6666667   | 0.6666667   | 0.6666667   | 0.6666667   | 0.66666667  |  0.66666667 | 0.6666667   | \n",
       "| Mixed | 0.34265809  | 0.5992564   | 0.4974343   | 0.6055183   | 0.4549450   | 0.40673698  |  0.61325120 | 0.4805551   | \n",
       "| Kafir | 0.17551742  | 0.5985250   | 0.2888541   | 0.6829384   | 0.4469761   | 0.02163243  |  0.54544541 | 0.3081162   | \n",
       "| Durra | 0.38754418  | 0.6464692   | 0.3409007   | 0.7085919   | 0.4473687   | 0.75462814  |  0.68093417 | 0.8021306   | \n",
       "| Caudatum | 0.58459914  | 0.6423760   | 0.3955352   | 0.5905080   | 0.3513162   | 0.32709536  |  0.55792886 | 0.2511518   | \n",
       "| Guinea | 0.03733226  | 0.5888372   | 0.3739040   | 0.7652410   | 0.5615285   | 0.46583923  | -0.02438477 | 0.4742476   | \n",
       "\n",
       "\n"
      ],
      "text/plain": [
       "         DTA        PH        GN        GW        GY        PL        \n",
       "u:Race   0.66666667 0.6666667 0.6666667 0.6666667 0.6666667 0.66666667\n",
       "Mixed    0.34265809 0.5992564 0.4974343 0.6055183 0.4549450 0.40673698\n",
       "Kafir    0.17551742 0.5985250 0.2888541 0.6829384 0.4469761 0.02163243\n",
       "Durra    0.38754418 0.6464692 0.3409007 0.7085919 0.4473687 0.75462814\n",
       "Caudatum 0.58459914 0.6423760 0.3955352 0.5905080 0.3513162 0.32709536\n",
       "Guinea   0.03733226 0.5888372 0.3739040 0.7652410 0.5615285 0.46583923\n",
       "         FLH                  \n",
       "u:Race    0.66666667 0.6666667\n",
       "Mixed     0.61325120 0.4805551\n",
       "Kafir     0.54544541 0.3081162\n",
       "Durra     0.68093417 0.8021306\n",
       "Caudatum  0.55792886 0.2511518\n",
       "Guinea   -0.02438477 0.4742476"
      ]
     },
     "metadata": {},
     "output_type": "display_data"
    }
   ],
   "source": [
    "vcov = read.csv(\"VCOV_CV1_races/BL_vCov.csv\",header=T, row.names=1)\n",
    "head(vcov)\n",
    "\n",
    "Accuracy <- c()\n",
    "print(\"Total Columns\")\n",
    "ncol(vcov)\n",
    "print(\"----------\")\n",
    "\n",
    "for (i in 1:ncol(vcov)) {\n",
    "# row means\n",
    "rM <- vcov[,i]\n",
    "\n",
    "#calculate accuracy from means for all and within each race\n",
    "#print(\"############# Accuracy from covariances and variances ############\")\n",
    "\n",
    "#print(\"---All Races----\")\n",
    "all <- rM[2]/sqrt(rM[1]*rM[3])\n",
    "#print(\"---Mixed----\")\n",
    "mixed <- rM[5]/sqrt(rM[4]*rM[6])\n",
    "#print(\"---Kafir----\")\n",
    "kafir <- rM[8]/sqrt(rM[7]*rM[9])\n",
    "#print(\"---Durra----\")\n",
    "durra <- rM[11]/sqrt(rM[10]*rM[12])\n",
    "#print(\"---Caudatum----\")\n",
    "caudatum <- rM[14]/sqrt(rM[13]*rM[15])\n",
    "#print(\"---Guinea----\")\n",
    "guinea <- rM[17]/sqrt(rM[16]*rM[18])\n",
    "    \n",
    "acc <- c(all, mixed, kafir, durra, caudatum, guinea)\n",
    "    \n",
    "Accuracy <- cbind(Accuracy,acc)\n",
    "    }\n",
    "write.csv(Accuracy, \"VCOV_CV1_races/Accuracy_vcov/BL_accuracy_vcov.csv\")\n",
    "\n",
    "Total_Accuracy <-  cbind(Total_Accuracy,rowMeans(Accuracy))\n",
    "head(Total_Accuracy)\n"
   ]
  },
  {
   "cell_type": "code",
   "execution_count": 37,
   "metadata": {},
   "outputs": [
    {
     "data": {
      "text/html": [
       "<table>\n",
       "<thead><tr><th></th><th scope=col>DTA</th><th scope=col>PH</th><th scope=col>GN</th><th scope=col>GW</th><th scope=col>GY</th><th scope=col>PL</th><th scope=col>FLH</th><th scope=col>BL</th></tr></thead>\n",
       "<tbody>\n",
       "\t<tr><th scope=row>u:Race</th><td>0.66666667 </td><td>0.6666667  </td><td>0.6666667  </td><td>0.6666667  </td><td>0.6666667  </td><td>0.66666667 </td><td> 0.66666667</td><td>0.6666667  </td></tr>\n",
       "\t<tr><th scope=row>Mixed</th><td>0.34265809 </td><td>0.5992564  </td><td>0.4974343  </td><td>0.6055183  </td><td>0.4549450  </td><td>0.40673698 </td><td> 0.61325120</td><td>0.4805551  </td></tr>\n",
       "\t<tr><th scope=row>Kafir</th><td>0.17551742 </td><td>0.5985250  </td><td>0.2888541  </td><td>0.6829384  </td><td>0.4469761  </td><td>0.02163243 </td><td> 0.54544541</td><td>0.3081162  </td></tr>\n",
       "\t<tr><th scope=row>Durra</th><td>0.38754418 </td><td>0.6464692  </td><td>0.3409007  </td><td>0.7085919  </td><td>0.4473687  </td><td>0.75462814 </td><td> 0.68093417</td><td>0.8021306  </td></tr>\n",
       "\t<tr><th scope=row>Caudatum</th><td>0.58459914 </td><td>0.6423760  </td><td>0.3955352  </td><td>0.5905080  </td><td>0.3513162  </td><td>0.32709536 </td><td> 0.55792886</td><td>0.2511518  </td></tr>\n",
       "\t<tr><th scope=row>Guinea</th><td>0.03733226 </td><td>0.5888372  </td><td>0.3739040  </td><td>0.7652410  </td><td>0.5615285  </td><td>0.46583923 </td><td>-0.02438477</td><td>0.4742476  </td></tr>\n",
       "</tbody>\n",
       "</table>\n"
      ],
      "text/latex": [
       "\\begin{tabular}{r|llllllll}\n",
       "  & DTA & PH & GN & GW & GY & PL & FLH & BL\\\\\n",
       "\\hline\n",
       "\tu:Race & 0.66666667  & 0.6666667   & 0.6666667   & 0.6666667   & 0.6666667   & 0.66666667  &  0.66666667 & 0.6666667  \\\\\n",
       "\tMixed & 0.34265809  & 0.5992564   & 0.4974343   & 0.6055183   & 0.4549450   & 0.40673698  &  0.61325120 & 0.4805551  \\\\\n",
       "\tKafir & 0.17551742  & 0.5985250   & 0.2888541   & 0.6829384   & 0.4469761   & 0.02163243  &  0.54544541 & 0.3081162  \\\\\n",
       "\tDurra & 0.38754418  & 0.6464692   & 0.3409007   & 0.7085919   & 0.4473687   & 0.75462814  &  0.68093417 & 0.8021306  \\\\\n",
       "\tCaudatum & 0.58459914  & 0.6423760   & 0.3955352   & 0.5905080   & 0.3513162   & 0.32709536  &  0.55792886 & 0.2511518  \\\\\n",
       "\tGuinea & 0.03733226  & 0.5888372   & 0.3739040   & 0.7652410   & 0.5615285   & 0.46583923  & -0.02438477 & 0.4742476  \\\\\n",
       "\\end{tabular}\n"
      ],
      "text/markdown": [
       "\n",
       "| <!--/--> | DTA | PH | GN | GW | GY | PL | FLH | BL | \n",
       "|---|---|---|---|---|---|\n",
       "| u:Race | 0.66666667  | 0.6666667   | 0.6666667   | 0.6666667   | 0.6666667   | 0.66666667  |  0.66666667 | 0.6666667   | \n",
       "| Mixed | 0.34265809  | 0.5992564   | 0.4974343   | 0.6055183   | 0.4549450   | 0.40673698  |  0.61325120 | 0.4805551   | \n",
       "| Kafir | 0.17551742  | 0.5985250   | 0.2888541   | 0.6829384   | 0.4469761   | 0.02163243  |  0.54544541 | 0.3081162   | \n",
       "| Durra | 0.38754418  | 0.6464692   | 0.3409007   | 0.7085919   | 0.4473687   | 0.75462814  |  0.68093417 | 0.8021306   | \n",
       "| Caudatum | 0.58459914  | 0.6423760   | 0.3955352   | 0.5905080   | 0.3513162   | 0.32709536  |  0.55792886 | 0.2511518   | \n",
       "| Guinea | 0.03733226  | 0.5888372   | 0.3739040   | 0.7652410   | 0.5615285   | 0.46583923  | -0.02438477 | 0.4742476   | \n",
       "\n",
       "\n"
      ],
      "text/plain": [
       "         DTA        PH        GN        GW        GY        PL        \n",
       "u:Race   0.66666667 0.6666667 0.6666667 0.6666667 0.6666667 0.66666667\n",
       "Mixed    0.34265809 0.5992564 0.4974343 0.6055183 0.4549450 0.40673698\n",
       "Kafir    0.17551742 0.5985250 0.2888541 0.6829384 0.4469761 0.02163243\n",
       "Durra    0.38754418 0.6464692 0.3409007 0.7085919 0.4473687 0.75462814\n",
       "Caudatum 0.58459914 0.6423760 0.3955352 0.5905080 0.3513162 0.32709536\n",
       "Guinea   0.03733226 0.5888372 0.3739040 0.7652410 0.5615285 0.46583923\n",
       "         FLH         BL       \n",
       "u:Race    0.66666667 0.6666667\n",
       "Mixed     0.61325120 0.4805551\n",
       "Kafir     0.54544541 0.3081162\n",
       "Durra     0.68093417 0.8021306\n",
       "Caudatum  0.55792886 0.2511518\n",
       "Guinea   -0.02438477 0.4742476"
      ]
     },
     "metadata": {},
     "output_type": "display_data"
    }
   ],
   "source": [
    "colnames(Total_Accuracy) <- c(\"DTA\",\"PH\",\"GN\",\"GW\",\"GY\",\"PL\",\"FLH\",\"BL\")\n",
    "rownames(Total_Accuracy) <- c(\"u:Race\",\"Mixed\",\"Kafir\",\"Durra\",\"Caudatum\",\"Guinea\")\n",
    "head(Total_Accuracy)"
   ]
  },
  {
   "cell_type": "code",
   "execution_count": 38,
   "metadata": {},
   "outputs": [],
   "source": [
    "write.csv(Total_Accuracy,\"VCOV_CV1_races/Accuracy_vcov/Mean_Accuracy_vcov_CV1.csv\")"
   ]
  },
  {
   "cell_type": "code",
   "execution_count": null,
   "metadata": {},
   "outputs": [],
   "source": []
  },
  {
   "cell_type": "code",
   "execution_count": null,
   "metadata": {},
   "outputs": [],
   "source": []
  }
 ],
 "metadata": {
  "kernelspec": {
   "display_name": "R",
   "language": "R",
   "name": "ir"
  },
  "language_info": {
   "codemirror_mode": "r",
   "file_extension": ".r",
   "mimetype": "text/x-r-source",
   "name": "R",
   "pygments_lexer": "r",
   "version": "3.5.1"
  }
 },
 "nbformat": 4,
 "nbformat_minor": 2
}
