{
 "cells": [
  {
   "cell_type": "code",
   "execution_count": 51,
   "metadata": {},
   "outputs": [],
   "source": [
    ".libPaths(c('/anaconda2/lib/R/library',.libPaths()))\n",
    "setwd(\"~/Documents/Experiments/SAP_GS_PopStr/Results/Prediction_Results/WR_AR_SameTPsize/AR_Pred_Accu/\")\n",
    "require(readr)  # for read_csv()\n",
    "require(dplyr)  # for mutate()\n",
    "require(tidyr)  # for unnest()\n",
    "require(purrr)  # for map(), reduce()\n",
    "library(tidyverse)\n",
    "library(reshape2)\n",
    "library(ggplot2)"
   ]
  },
  {
   "cell_type": "code",
   "execution_count": 52,
   "metadata": {},
   "outputs": [
    {
     "data": {
      "text/html": [
       "<ol class=list-inline>\n",
       "\t<li>'AR-prediction_mean_statistics_byRace.csv'</li>\n",
       "\t<li>'Complete_AR_PredAccuracy_VCov.csv'</li>\n",
       "\t<li>'Correlation_AR_mean_sd.csv'</li>\n",
       "\t<li>'Covariances_AR_mean_sd.csv'</li>\n",
       "</ol>\n"
      ],
      "text/latex": [
       "\\begin{enumerate*}\n",
       "\\item 'AR-prediction\\_mean\\_statistics\\_byRace.csv'\n",
       "\\item 'Complete\\_AR\\_PredAccuracy\\_VCov.csv'\n",
       "\\item 'Correlation\\_AR\\_mean\\_sd.csv'\n",
       "\\item 'Covariances\\_AR\\_mean\\_sd.csv'\n",
       "\\end{enumerate*}\n"
      ],
      "text/markdown": [
       "1. 'AR-prediction_mean_statistics_byRace.csv'\n",
       "2. 'Complete_AR_PredAccuracy_VCov.csv'\n",
       "3. 'Correlation_AR_mean_sd.csv'\n",
       "4. 'Covariances_AR_mean_sd.csv'\n",
       "\n",
       "\n"
      ],
      "text/plain": [
       "[1] \"AR-prediction_mean_statistics_byRace.csv\"\n",
       "[2] \"Complete_AR_PredAccuracy_VCov.csv\"       \n",
       "[3] \"Correlation_AR_mean_sd.csv\"              \n",
       "[4] \"Covariances_AR_mean_sd.csv\"              "
      ]
     },
     "metadata": {},
     "output_type": "display_data"
    },
    {
     "data": {
      "text/html": [
       "4"
      ],
      "text/latex": [
       "4"
      ],
      "text/markdown": [
       "4"
      ],
      "text/plain": [
       "[1] 4"
      ]
     },
     "metadata": {},
     "output_type": "display_data"
    }
   ],
   "source": [
    "#read in the AR prediction accuracy files\n",
    "data_path <- \"~/Documents/Experiments/SAP_GS_PopStr/Results/Prediction_Results/WR_AR_SameTPsize/AR_Pred_Accu/\"\n",
    "files <- dir(data_path, pattern = \"*.csv\")\n",
    "files ## names of the files\n",
    "length(files) ## number of files"
   ]
  },
  {
   "cell_type": "code",
   "execution_count": 53,
   "metadata": {},
   "outputs": [
    {
     "name": "stderr",
     "output_type": "stream",
     "text": [
      "Warning message:\n",
      "“Missing column names filled in: 'X1' [1]”Parsed with column specification:\n",
      "cols(\n",
      "  X1 = col_integer(),\n",
      "  Race = col_character(),\n",
      "  Trait = col_character(),\n",
      "  Cov_xy = col_double(),\n",
      "  var_x = col_double(),\n",
      "  var_y = col_double(),\n",
      "  Corr = col_double()\n",
      ")\n",
      "Parsed with column specification:\n",
      "cols(\n",
      "  .default = col_double(),\n",
      "  Method = col_character(),\n",
      "  Race = col_character(),\n",
      "  Trait = col_character(),\n",
      "  Statistic = col_character()\n",
      ")\n",
      "See spec(...) for full column specifications.\n",
      "Warning message:\n",
      "“Missing column names filled in: 'X1' [1]”Parsed with column specification:\n",
      "cols(\n",
      "  X1 = col_integer(),\n",
      "  Race = col_character(),\n",
      "  Trait = col_character(),\n",
      "  Statistic = col_character(),\n",
      "  Mean = col_double(),\n",
      "  SD = col_double()\n",
      ")\n",
      "Warning message:\n",
      "“Missing column names filled in: 'X1' [1], 'X7' [7], 'X8' [8], 'X9' [9]”Parsed with column specification:\n",
      "cols(\n",
      "  X1 = col_integer(),\n",
      "  Race = col_character(),\n",
      "  Trait = col_character(),\n",
      "  Statistic = col_character(),\n",
      "  Mean = col_double(),\n",
      "  SD = col_double(),\n",
      "  X7 = col_character(),\n",
      "  X8 = col_character(),\n",
      "  X9 = col_double()\n",
      ")\n"
     ]
    }
   ],
   "source": [
    "\n",
    "data <- data_frame(filename = files) %>% # create a data frame\n",
    "                                         # holding the file names\n",
    "  mutate(file_contents = map(filename,          # read files into\n",
    "           ~ read_csv(file.path(data_path, .))) # a new data column\n",
    "        )  \n",
    "data2 <- unnest(data)\n",
    "\n",
    "#write.csv(data2,\"Complete_WR_PredAccuracy_VCov.csv\")\n",
    "    "
   ]
  },
  {
   "cell_type": "code",
   "execution_count": 54,
   "metadata": {},
   "outputs": [
    {
     "name": "stderr",
     "output_type": "stream",
     "text": [
      "Using Method, Race, Trait, Statistic as id variables\n"
     ]
    },
    {
     "data": {
      "text/html": [
       "<table>\n",
       "<thead><tr><th scope=col>Method</th><th scope=col>Race</th><th scope=col>Trait</th><th scope=col>Statistic</th><th scope=col>variable</th><th scope=col>value</th></tr></thead>\n",
       "<tbody>\n",
       "\t<tr><td>AR         </td><td>Caudatum   </td><td>BL         </td><td>corr       </td><td>result_1   </td><td>  0.2138284</td></tr>\n",
       "\t<tr><td>AR         </td><td>Caudatum   </td><td>BL         </td><td>var_x      </td><td>result_1   </td><td> 33.1212651</td></tr>\n",
       "\t<tr><td>AR         </td><td>Caudatum   </td><td>BL         </td><td>var_y      </td><td>result_1   </td><td>703.7331139</td></tr>\n",
       "\t<tr><td>AR         </td><td>Caudatum   </td><td>BL         </td><td>cov_xy     </td><td>result_1   </td><td> 32.6879409</td></tr>\n",
       "\t<tr><td>AR         </td><td>Caudatum   </td><td>DTA        </td><td>corr       </td><td>result_1   </td><td>  0.4138804</td></tr>\n",
       "\t<tr><td>AR         </td><td>Caudatum   </td><td>DTA        </td><td>var_x      </td><td>result_1   </td><td>  1.2387751</td></tr>\n",
       "</tbody>\n",
       "</table>\n"
      ],
      "text/latex": [
       "\\begin{tabular}{r|llllll}\n",
       " Method & Race & Trait & Statistic & variable & value\\\\\n",
       "\\hline\n",
       "\t AR          & Caudatum    & BL          & corr        & result\\_1  &   0.2138284\\\\\n",
       "\t AR          & Caudatum    & BL          & var\\_x     & result\\_1  &  33.1212651\\\\\n",
       "\t AR          & Caudatum    & BL          & var\\_y     & result\\_1  & 703.7331139\\\\\n",
       "\t AR          & Caudatum    & BL          & cov\\_xy    & result\\_1  &  32.6879409\\\\\n",
       "\t AR          & Caudatum    & DTA         & corr        & result\\_1  &   0.4138804\\\\\n",
       "\t AR          & Caudatum    & DTA         & var\\_x     & result\\_1  &   1.2387751\\\\\n",
       "\\end{tabular}\n"
      ],
      "text/markdown": [
       "\n",
       "Method | Race | Trait | Statistic | variable | value | \n",
       "|---|---|---|---|---|---|\n",
       "| AR          | Caudatum    | BL          | corr        | result_1    |   0.2138284 | \n",
       "| AR          | Caudatum    | BL          | var_x       | result_1    |  33.1212651 | \n",
       "| AR          | Caudatum    | BL          | var_y       | result_1    | 703.7331139 | \n",
       "| AR          | Caudatum    | BL          | cov_xy      | result_1    |  32.6879409 | \n",
       "| AR          | Caudatum    | DTA         | corr        | result_1    |   0.4138804 | \n",
       "| AR          | Caudatum    | DTA         | var_x       | result_1    |   1.2387751 | \n",
       "\n",
       "\n"
      ],
      "text/plain": [
       "  Method Race     Trait Statistic variable value      \n",
       "1 AR     Caudatum BL    corr      result_1   0.2138284\n",
       "2 AR     Caudatum BL    var_x     result_1  33.1212651\n",
       "3 AR     Caudatum BL    var_y     result_1 703.7331139\n",
       "4 AR     Caudatum BL    cov_xy    result_1  32.6879409\n",
       "5 AR     Caudatum DTA   corr      result_1   0.4138804\n",
       "6 AR     Caudatum DTA   var_x     result_1   1.2387751"
      ]
     },
     "metadata": {},
     "output_type": "display_data"
    },
    {
     "data": {
      "text/html": [
       "<table>\n",
       "<thead><tr><th scope=col>Race</th><th scope=col>Trait</th><th scope=col>Cov_xy</th><th scope=col>var_x</th><th scope=col>var_y</th><th scope=col>Corr</th></tr></thead>\n",
       "<tbody>\n",
       "\t<tr><td>Caudatum    </td><td>BL          </td><td>   3.647812 </td><td>  19.598434 </td><td>   392.59965</td><td>0.02677402  </td></tr>\n",
       "\t<tr><td>Caudatum    </td><td>DTA         </td><td>   3.598829 </td><td>   1.731499 </td><td>    62.65296</td><td>0.34830963  </td></tr>\n",
       "\t<tr><td>Caudatum    </td><td>FLH         </td><td> 123.631911 </td><td>  43.745691 </td><td>  1735.68177</td><td>0.48455878  </td></tr>\n",
       "\t<tr><td>Caudatum    </td><td>GN          </td><td>6968.254963 </td><td>6539.541550 </td><td>165199.98342</td><td>0.21208837  </td></tr>\n",
       "\t<tr><td>Caudatum    </td><td>GW          </td><td>   1.774435 </td><td>   1.033236 </td><td>    24.40777</td><td>0.34579534  </td></tr>\n",
       "\t<tr><td>Caudatum    </td><td>GY          </td><td>   8.924256 </td><td>  10.266447 </td><td>   178.92077</td><td>0.20856418  </td></tr>\n",
       "</tbody>\n",
       "</table>\n"
      ],
      "text/latex": [
       "\\begin{tabular}{r|llllll}\n",
       " Race & Trait & Cov\\_xy & var\\_x & var\\_y & Corr\\\\\n",
       "\\hline\n",
       "\t Caudatum     & BL           &    3.647812  &   19.598434  &    392.59965 & 0.02677402  \\\\\n",
       "\t Caudatum     & DTA          &    3.598829  &    1.731499  &     62.65296 & 0.34830963  \\\\\n",
       "\t Caudatum     & FLH          &  123.631911  &   43.745691  &   1735.68177 & 0.48455878  \\\\\n",
       "\t Caudatum     & GN           & 6968.254963  & 6539.541550  & 165199.98342 & 0.21208837  \\\\\n",
       "\t Caudatum     & GW           &    1.774435  &    1.033236  &     24.40777 & 0.34579534  \\\\\n",
       "\t Caudatum     & GY           &    8.924256  &   10.266447  &    178.92077 & 0.20856418  \\\\\n",
       "\\end{tabular}\n"
      ],
      "text/markdown": [
       "\n",
       "Race | Trait | Cov_xy | var_x | var_y | Corr | \n",
       "|---|---|---|---|---|---|\n",
       "| Caudatum     | BL           |    3.647812  |   19.598434  |    392.59965 | 0.02677402   | \n",
       "| Caudatum     | DTA          |    3.598829  |    1.731499  |     62.65296 | 0.34830963   | \n",
       "| Caudatum     | FLH          |  123.631911  |   43.745691  |   1735.68177 | 0.48455878   | \n",
       "| Caudatum     | GN           | 6968.254963  | 6539.541550  | 165199.98342 | 0.21208837   | \n",
       "| Caudatum     | GW           |    1.774435  |    1.033236  |     24.40777 | 0.34579534   | \n",
       "| Caudatum     | GY           |    8.924256  |   10.266447  |    178.92077 | 0.20856418   | \n",
       "\n",
       "\n"
      ],
      "text/plain": [
       "  Race     Trait Cov_xy      var_x       var_y        Corr      \n",
       "1 Caudatum BL       3.647812   19.598434    392.59965 0.02677402\n",
       "2 Caudatum DTA      3.598829    1.731499     62.65296 0.34830963\n",
       "3 Caudatum FLH    123.631911   43.745691   1735.68177 0.48455878\n",
       "4 Caudatum GN    6968.254963 6539.541550 165199.98342 0.21208837\n",
       "5 Caudatum GW       1.774435    1.033236     24.40777 0.34579534\n",
       "6 Caudatum GY       8.924256   10.266447    178.92077 0.20856418"
      ]
     },
     "metadata": {},
     "output_type": "display_data"
    }
   ],
   "source": [
    "\n",
    "ar = read.csv(\"Complete_AR_PredAccuracy_VCov.csv\",header=T)\n",
    "ar.m = melt(ar)\n",
    "head(ar.m)\n",
    "ar2  = ar.m %>%\n",
    "    group_by(Race, Trait, Statistic) %>%\n",
    "    summarize(Mean = mean(value), SD = sd(value))\n",
    "\n",
    "ar2_var_x <- ar2[ar2$Statistic==\"var_x\",]\n",
    "ar2_var_y <- ar2[ar2$Statistic==\"var_y\",]\n",
    "ar2_cov <- ar2[ar2$Statistic==\"cov_xy\",]\n",
    "ar2_cor <- ar2[ar2$Statistic==\"corr\",]\n",
    "ar2_summary <- cbind(ar2_var_x[,1], ar2_var_x[,2], ar2_cov$Mean, ar2_var_x$Mean, ar2_var_y$Mean, ar2_cor$Mean)\n",
    "colnames(ar2_summary) <- c(\"Race\",\"Trait\",\"Cov_xy\",\"var_x\",\"var_y\",\"Corr\")\n",
    "head(ar2_summary)\n",
    "\n",
    "#write.csv(ar2_summary, \"WR-prediction_mean_statistics_byRace.csv\")\n",
    "#write.csv(ar2_cov, \"Covariances_AR_mean_sd.csv\")\n"
   ]
  },
  {
   "cell_type": "code",
   "execution_count": 56,
   "metadata": {},
   "outputs": [
    {
     "data": {
      "text/html": [
       "<table>\n",
       "<thead><tr><th scope=col>Trait</th><th scope=col>Statistic</th><th scope=col>Mean</th><th scope=col>SD</th></tr></thead>\n",
       "<tbody>\n",
       "\t<tr><td>BL         </td><td>var_x      </td><td>  34.669413</td><td>  38.563622</td></tr>\n",
       "\t<tr><td>DTA        </td><td>var_x      </td><td>   1.838628</td><td>   1.905366</td></tr>\n",
       "\t<tr><td>FLH        </td><td>var_x      </td><td>  31.939216</td><td>  43.442473</td></tr>\n",
       "\t<tr><td>GN         </td><td>var_x      </td><td>5448.002504</td><td>5885.403479</td></tr>\n",
       "\t<tr><td>GW         </td><td>var_x      </td><td>   1.216189</td><td>   1.047049</td></tr>\n",
       "\t<tr><td>GY         </td><td>var_x      </td><td>   9.143142</td><td>   7.693512</td></tr>\n",
       "\t<tr><td>PH         </td><td>var_x      </td><td> 117.509025</td><td> 112.234267</td></tr>\n",
       "\t<tr><td>PL         </td><td>var_x      </td><td>   1.142333</td><td>   1.161017</td></tr>\n",
       "</tbody>\n",
       "</table>\n"
      ],
      "text/latex": [
       "\\begin{tabular}{r|llll}\n",
       " Trait & Statistic & Mean & SD\\\\\n",
       "\\hline\n",
       "\t BL          & var\\_x     &   34.669413 &   38.563622\\\\\n",
       "\t DTA         & var\\_x     &    1.838628 &    1.905366\\\\\n",
       "\t FLH         & var\\_x     &   31.939216 &   43.442473\\\\\n",
       "\t GN          & var\\_x     & 5448.002504 & 5885.403479\\\\\n",
       "\t GW          & var\\_x     &    1.216189 &    1.047049\\\\\n",
       "\t GY          & var\\_x     &    9.143142 &    7.693512\\\\\n",
       "\t PH          & var\\_x     &  117.509025 &  112.234267\\\\\n",
       "\t PL          & var\\_x     &    1.142333 &    1.161017\\\\\n",
       "\\end{tabular}\n"
      ],
      "text/markdown": [
       "\n",
       "Trait | Statistic | Mean | SD | \n",
       "|---|---|---|---|---|---|---|---|\n",
       "| BL          | var_x       |   34.669413 |   38.563622 | \n",
       "| DTA         | var_x       |    1.838628 |    1.905366 | \n",
       "| FLH         | var_x       |   31.939216 |   43.442473 | \n",
       "| GN          | var_x       | 5448.002504 | 5885.403479 | \n",
       "| GW          | var_x       |    1.216189 |    1.047049 | \n",
       "| GY          | var_x       |    9.143142 |    7.693512 | \n",
       "| PH          | var_x       |  117.509025 |  112.234267 | \n",
       "| PL          | var_x       |    1.142333 |    1.161017 | \n",
       "\n",
       "\n"
      ],
      "text/plain": [
       "  Trait Statistic Mean        SD         \n",
       "1 BL    var_x       34.669413   38.563622\n",
       "2 DTA   var_x        1.838628    1.905366\n",
       "3 FLH   var_x       31.939216   43.442473\n",
       "4 GN    var_x     5448.002504 5885.403479\n",
       "5 GW    var_x        1.216189    1.047049\n",
       "6 GY    var_x        9.143142    7.693512\n",
       "7 PH    var_x      117.509025  112.234267\n",
       "8 PL    var_x        1.142333    1.161017"
      ]
     },
     "metadata": {},
     "output_type": "display_data"
    },
    {
     "data": {
      "text/html": [
       "<table>\n",
       "<thead><tr><th scope=col>Trait</th><th scope=col>Cov_xy</th><th scope=col>var_x</th><th scope=col>var_y</th><th scope=col>Corr</th></tr></thead>\n",
       "<tbody>\n",
       "\t<tr><td>1           </td><td>  35.4242316</td><td>  34.669413 </td><td>   881.74159</td><td>0.1838739   </td></tr>\n",
       "\t<tr><td>2           </td><td>   1.3130127</td><td>   1.838628 </td><td>    59.75271</td><td>0.1330594   </td></tr>\n",
       "\t<tr><td>3           </td><td>  63.4443617</td><td>  31.939216 </td><td>  1407.70495</td><td>0.3302519   </td></tr>\n",
       "\t<tr><td>4           </td><td>7350.3518237</td><td>5448.002504 </td><td>167124.27610</td><td>0.2572323   </td></tr>\n",
       "\t<tr><td>5           </td><td>   2.1637734</td><td>   1.216189 </td><td>    30.15707</td><td>0.3663651   </td></tr>\n",
       "\t<tr><td>6           </td><td>  13.1414746</td><td>   9.143142 </td><td>   184.23154</td><td>0.3416040   </td></tr>\n",
       "\t<tr><td>7           </td><td> 236.2026537</td><td> 117.509025 </td><td>  2442.50463</td><td>0.4387333   </td></tr>\n",
       "\t<tr><td>8           </td><td>   0.7460535</td><td>   1.142333 </td><td>    31.77299</td><td>0.1078388   </td></tr>\n",
       "</tbody>\n",
       "</table>\n"
      ],
      "text/latex": [
       "\\begin{tabular}{lllll}\n",
       " Trait & Cov\\_xy & var\\_x & var\\_y & Corr\\\\\n",
       "\\hline\n",
       "\t 1            &   35.4242316 &   34.669413  &    881.74159 & 0.1838739   \\\\\n",
       "\t 2            &    1.3130127 &    1.838628  &     59.75271 & 0.1330594   \\\\\n",
       "\t 3            &   63.4443617 &   31.939216  &   1407.70495 & 0.3302519   \\\\\n",
       "\t 4            & 7350.3518237 & 5448.002504  & 167124.27610 & 0.2572323   \\\\\n",
       "\t 5            &    2.1637734 &    1.216189  &     30.15707 & 0.3663651   \\\\\n",
       "\t 6            &   13.1414746 &    9.143142  &    184.23154 & 0.3416040   \\\\\n",
       "\t 7            &  236.2026537 &  117.509025  &   2442.50463 & 0.4387333   \\\\\n",
       "\t 8            &    0.7460535 &    1.142333  &     31.77299 & 0.1078388   \\\\\n",
       "\\end{tabular}\n"
      ],
      "text/markdown": [
       "\n",
       "Trait | Cov_xy | var_x | var_y | Corr | \n",
       "|---|---|---|---|---|---|---|---|\n",
       "| 1            |   35.4242316 |   34.669413  |    881.74159 | 0.1838739    | \n",
       "| 2            |    1.3130127 |    1.838628  |     59.75271 | 0.1330594    | \n",
       "| 3            |   63.4443617 |   31.939216  |   1407.70495 | 0.3302519    | \n",
       "| 4            | 7350.3518237 | 5448.002504  | 167124.27610 | 0.2572323    | \n",
       "| 5            |    2.1637734 |    1.216189  |     30.15707 | 0.3663651    | \n",
       "| 6            |   13.1414746 |    9.143142  |    184.23154 | 0.3416040    | \n",
       "| 7            |  236.2026537 |  117.509025  |   2442.50463 | 0.4387333    | \n",
       "| 8            |    0.7460535 |    1.142333  |     31.77299 | 0.1078388    | \n",
       "\n",
       "\n"
      ],
      "text/plain": [
       "     Trait Cov_xy       var_x       var_y        Corr     \n",
       "[1,] 1       35.4242316   34.669413    881.74159 0.1838739\n",
       "[2,] 2        1.3130127    1.838628     59.75271 0.1330594\n",
       "[3,] 3       63.4443617   31.939216   1407.70495 0.3302519\n",
       "[4,] 4     7350.3518237 5448.002504 167124.27610 0.2572323\n",
       "[5,] 5        2.1637734    1.216189     30.15707 0.3663651\n",
       "[6,] 6       13.1414746    9.143142    184.23154 0.3416040\n",
       "[7,] 7      236.2026537  117.509025   2442.50463 0.4387333\n",
       "[8,] 8        0.7460535    1.142333     31.77299 0.1078388"
      ]
     },
     "metadata": {},
     "output_type": "display_data"
    }
   ],
   "source": [
    "ar2 = ar.m %>%\n",
    "    group_by(Trait,Statistic) %>%\n",
    "    summarize(Mean = mean(value), SD = sd(value))\n",
    "\n",
    "ar2_var_x <- ar2[ar2$Statistic==\"var_x\",]\n",
    "ar2_var_y <- ar2[ar2$Statistic==\"var_y\",]\n",
    "ar2_cov <- ar2[ar2$Statistic==\"cov_xy\",]\n",
    "ar2_cor <- ar2[ar2$Statistic==\"corr\",]\n",
    "ar2_summary <- cbind(ar2_cov$Trait, ar2_cov$Mean, ar2_var_x$Mean, ar2_var_y$Mean, ar2_cor$Mean)\n",
    "colnames(ar2_summary) <- c(\"Trait\",\"Cov_xy\",\"var_x\",\"var_y\",\"Corr\")\n",
    "ar2_var_x\n",
    "ar2_summary\n",
    "\n",
    "write.csv(ar2_summary,\"AR_mean_statistics_total.csv\")"
   ]
  },
  {
   "cell_type": "code",
   "execution_count": null,
   "metadata": {},
   "outputs": [],
   "source": []
  }
 ],
 "metadata": {
  "kernelspec": {
   "display_name": "R",
   "language": "R",
   "name": "ir"
  },
  "language_info": {
   "codemirror_mode": "r",
   "file_extension": ".r",
   "mimetype": "text/x-r-source",
   "name": "R",
   "pygments_lexer": "r",
   "version": "3.5.1"
  }
 },
 "nbformat": 4,
 "nbformat_minor": 2
}
