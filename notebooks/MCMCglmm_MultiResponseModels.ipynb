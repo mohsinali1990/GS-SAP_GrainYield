{
 "cells": [
  {
   "cell_type": "markdown",
   "metadata": {},
   "source": [
    "## MCMCglmm package/function for Multi-response Models\n",
    "This notebook contains scripts to decompose covariances from GBLUP predictions for covariances across and within races. GBLUP model was implemented (in \"CV1_SAP_CS2019\" notebook) and predicted values were stored.\n"
   ]
  },
  {
   "cell_type": "code",
   "execution_count": 1,
   "metadata": {},
   "outputs": [
    {
     "ename": "ERROR",
     "evalue": "Error in library(MCMCglmm): there is no package called ‘MCMCglmm’\n",
     "output_type": "error",
     "traceback": [
      "Error in library(MCMCglmm): there is no package called ‘MCMCglmm’\nTraceback:\n",
      "1. library(MCMCglmm)",
      "2. stop(txt, domain = NA)"
     ]
    }
   ],
   "source": [
    ".libPaths(c('/Users/ssapkot/Documents/Experiments/MyRlibs',.libPaths()))\n",
    "library(MCMCglmm)\n",
    "\n",
    "## Load Predicted values and true/observed values\n",
    "X = read.csv(\"../CV1_predictedValues/Predicted_Values.DTA.csv\",header=T, row.names=1)\n",
    "head(X)\n",
    "\n",
    "Y = read.csv(\"../Data/BLUEs_pheno_all.csv\",header=T)\n",
    "head(Y)\n",
    "str(Y)\n",
    "R = as.factor(Y$Cluster)\n",
    "str(R)"
   ]
  },
  {
   "cell_type": "code",
   "execution_count": 11,
   "metadata": {},
   "outputs": [
    {
     "ename": "ERROR",
     "evalue": "Error in library(MCMCglmm): there is no package called ‘MCMCglmm’\n",
     "output_type": "error",
     "traceback": [
      "Error in library(MCMCglmm): there is no package called ‘MCMCglmm’\nTraceback:\n",
      "1. library(MCMCglmm)",
      "2. stop(txt, domain = NA)"
     ]
    }
   ],
   "source": [
    "\n",
    "\n",
    "x = X$V2\n",
    "y = Y$DTA\n",
    "Race = Y$Subpopulation\n",
    "PI = Y$PI\n",
    "\n",
    "m5a.2 <- MCMCglmm(cbind(x, y) ~ trait -1, random = ~us(trait):Race, rcov = ~us(trait):PI, data = Spending, family = c(\"gaussian\", \"gaussian\"),\n",
    "verbose = FALSE)\n",
    "\n",
    "Race.regression <- m5a.2$VCV[, 2]/m5a.2$VCV[, 1]\n",
    "PI.regression <- m5a.2$VCV[, 6]/m5a.2$VCV[, 5]\n",
    "plot(mcmc.list(m5a.1$Sol[, \"y.hol\"], id.regression, units.regression), density = FALSE)\n"
   ]
  },
  {
   "cell_type": "code",
   "execution_count": null,
   "metadata": {},
   "outputs": [],
   "source": []
  }
 ],
 "metadata": {
  "kernelspec": {
   "display_name": "R",
   "language": "R",
   "name": "ir"
  },
  "language_info": {
   "codemirror_mode": "r",
   "file_extension": ".r",
   "mimetype": "text/x-r-source",
   "name": "R",
   "pygments_lexer": "r",
   "version": "3.5.1"
  }
 },
 "nbformat": 4,
 "nbformat_minor": 2
}
